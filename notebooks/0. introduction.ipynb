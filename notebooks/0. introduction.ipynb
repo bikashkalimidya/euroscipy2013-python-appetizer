{
 "metadata": {
  "name": "0. introduction"
 },
 "nbformat": 3,
 "nbformat_minor": 0,
 "worksheets": [
  {
   "cells": [
    {
     "cell_type": "code",
     "collapsed": false,
     "input": [
      "from default import *\n",
      "def_time = 120"
     ],
     "language": "python",
     "metadata": {},
     "outputs": []
    },
    {
     "cell_type": "markdown",
     "metadata": {},
     "source": [
      "***\n",
      "\n",
      "### Question:\n",
      "\n",
      "about your python knowledge : \n",
      "\n",
      "***\n",
      "\n",
      "A. none or equivallent\n",
      "\n",
      "B. some experience, not convinced yet\n",
      "\n",
      "C. experienced user (please consider to follow the advanced track next door ;-) )\n",
      "    \n",
      "***"
     ]
    },
    {
     "cell_type": "code",
     "collapsed": false,
     "input": [
      "ask('a,b,c',sec=def_time)"
     ],
     "language": "python",
     "metadata": {},
     "outputs": []
    },
    {
     "cell_type": "markdown",
     "metadata": {},
     "source": [
      "The Python language\n",
      "======================="
     ]
    },
    {
     "cell_type": "markdown",
     "metadata": {},
     "source": [
      "***\n",
      "\n",
      "### Question:\n",
      "\n",
      "***\n",
      "\n",
      "Are you familiar we these notions : \n",
      "\n",
      "* high/low level programming language\n",
      "\n",
      "* compiled/interpretted language\n",
      "\n",
      "* strong/weak typing\n",
      "\n",
      "* dynamic/static typing\n",
      "\n",
      "A. yes\n",
      "\n",
      "B. well, some of these seam clear to me\n",
      "\n",
      "C. these are nice buzzwords, but essentially, no I'm not\n",
      "\n",
      "***\n",
      "\n",
      "    \n"
     ]
    },
    {
     "cell_type": "code",
     "collapsed": false,
     "input": [
      "ask('a,b,c',sec=def_time)"
     ],
     "language": "python",
     "metadata": {},
     "outputs": []
    },
    {
     "cell_type": "markdown",
     "metadata": {},
     "source": [
      "## **Python** is a **high level** interpretted programming language with strong dynamic typing"
     ]
    },
    {
     "cell_type": "markdown",
     "metadata": {},
     "source": [
      "##high level"
     ]
    },
    {
     "cell_type": "markdown",
     "metadata": {},
     "source": [
      "common programing languages can be sorted as:\n",
      "\n",
      "high level >\n",
      "\n",
      "* **Python**, **Matlab**\n",
      "\n",
      "* **C#**, **Java**\n",
      "\n",
      "\n",
      "* **C** , **Fortran**\n",
      "\n",
      "< low level"
     ]
    },
    {
     "cell_type": "markdown",
     "metadata": {},
     "source": [
      "* high level language allows to program more rapidely \n",
      "\n",
      "* low level allows more optimization and execution efficiency\n",
      "\n",
      "* but overall efficiency must take into account the programing/debuging time"
     ]
    },
    {
     "cell_type": "markdown",
     "metadata": {},
     "source": [
      "## interpretted"
     ]
    },
    {
     "cell_type": "markdown",
     "metadata": {},
     "source": [
      "* code is interpretted by a python interpretter (an executable) that itself can be programmed in several languages C++, Java and also in Python (see http://www.python.org/getit/)\n",
      "\n",
      "    * the \"traditional\" implementation of Python : CPython\n",
      "    \n",
      "    * IronPython (Python running on .NET)\n",
      "    \n",
      "    * Jython (Python running on the Java Virtual Machine)\n",
      "    \n",
      "    * PyPy (A fast python implementation with a JIT compiler)\n",
      "    \n",
      "    * Stackless Python (Branch of CPython supporting microthreads)"
     ]
    },
    {
     "cell_type": "markdown",
     "metadata": {},
     "source": [
      "* several different python interpretter may co-exist inside a single computer"
     ]
    },
    {
     "cell_type": "markdown",
     "metadata": {},
     "source": [
      "* The current production versions are \n",
      "    \n",
      "    * Python 2.7.5  \n",
      "    \n",
      "    * Python 3.3.2."
     ]
    },
    {
     "cell_type": "markdown",
     "metadata": {},
     "source": [
      "* if you are new to python use the 2.7, this version has the more available modules, however the most important ones are already ported on version 3.3\n",
      "\n",
      "* this is not a big deal, normally the migration from 2.7 to 3.3 should not be problematic for your old 2.7 code (good programmers have thought about that for you !)"
     ]
    },
    {
     "cell_type": "markdown",
     "metadata": {},
     "source": [
      "## strong typing\n",
      "\n",
      "* strong typing means that each piece of data has a precise type (e.g. int, string, float, ...)\n",
      "\n",
      "## dynamic typing\n",
      "\n",
      "* dynamic typing means that the type of a data is known only at the execution time (i.e. may not be explicitely given in the source code)\n",
      "\n",
      "more in the next *notebook...*"
     ]
    },
    {
     "cell_type": "markdown",
     "metadata": {},
     "source": [
      "## why python is a good language for scientist (and others)?"
     ]
    },
    {
     "cell_type": "markdown",
     "metadata": {},
     "source": [
      "* many programming task are per definition series of trials and errors\n",
      "* it is cross platform\n",
      "* it is compact/ high readability (from the [beginning](http://www.python.org/doc/essays/foreword/))\n",
      "\n",
      ">*\u201cPrograms must be written for people to read, and only incidentally for machines to execute.\u201d\n",
      ">Hal Abelson, Structure and Interpretation of Computer Programs*\n",
      "\n",
      "* it is widely used and the community is increasing rapidely\n",
      "* it is free\n",
      "* it is cool"
     ]
    },
    {
     "cell_type": "markdown",
     "metadata": {},
     "source": [
      "* the language itself offer many handful data types and functionalities \n",
      "\n",
      "* there is a lot of mature libraries \n",
      "\n",
      "* good mix between high level features and low level efficiency\n",
      "\n",
      "* there is possibilities to interact with other languages (Matlab, C, C++, Fortran,...)"
     ]
    },
    {
     "cell_type": "markdown",
     "metadata": {},
     "source": [
      "* Documentation system is included in the language \n",
      "\n",
      "* Python is reflexive \n",
      "\n",
      "* testing framework is also built-in\n",
      "\n",
      "* Python crash elegantly / the stack trace is very informative"
     ]
    },
    {
     "cell_type": "markdown",
     "metadata": {},
     "source": [
      "***\n",
      "\n",
      "### Question:\n",
      "\n",
      "***\n",
      "\n",
      "\n",
      "do you: \n",
      "\n",
      "\n",
      "A. use Matlab as a the main programming language\n",
      "\n",
      "B. use Matlab as glue code\n",
      "\n",
      "C. use Octave (or similar free software) instead of Matlab\n",
      "\n",
      "D. not use Matlab\n",
      "    \n",
      "***\n",
      "\n"
     ]
    },
    {
     "cell_type": "code",
     "collapsed": false,
     "input": [
      "ask('a,b,c,d',sec=def_time)"
     ],
     "language": "python",
     "metadata": {},
     "outputs": []
    },
    {
     "cell_type": "markdown",
     "metadata": {},
     "source": [
      "## a small comparison with matlab\n",
      "\n",
      "* MATLAB is not a real language, it was historicaly a macro language used to assemble a sequence of operations on matrices. With the time, the language get richer and richer but it clearly was not thought as a generic programming language from the beginning.\n",
      "\n",
      "* Python is clearly a more generic language on the top of which there are specialised modules\n",
      "\n",
      "* however there is notation differences that may annoy Matlab user, but this is nothing in comparison with the genericity of the language\n",
      "\n",
      "* Matlab is well established\n",
      "\n",
      "* Matlab is not free"
     ]
    },
    {
     "cell_type": "markdown",
     "metadata": {},
     "source": [
      "## developping environment\n",
      "\n",
      "* Python from the command line\n",
      "\n",
      "* IPython : interactive Python \n",
      "\n",
      "* IPython notebook : interactive Python inside a web browser"
     ]
    },
    {
     "cell_type": "markdown",
     "metadata": {},
     "source": [
      "## where to find help ?\n",
      "\n",
      "* [dive into python](http://www.diveintopython.net/)\n",
      "\n",
      "* [official python website](http://www.python.org/doc/)\n",
      "\n",
      "* [stackoverflow](http://stackoverflow.com/)\n",
      "\n",
      "* [umpy/scipy/matplotlib](http://www.scipy.org/docs.html)\n",
      "\n",
      "* [NumPy for MATLAB users](http://mathesaurus.sourceforge.net/matlab-numpy.html)\n"
     ]
    },
    {
     "cell_type": "code",
     "collapsed": false,
     "input": [],
     "language": "python",
     "metadata": {},
     "outputs": []
    }
   ],
   "metadata": {}
  }
 ]
}