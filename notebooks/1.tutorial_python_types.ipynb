{
 "metadata": {
  "name": "1.tutorial_python_types"
 },
 "nbformat": 3,
 "nbformat_minor": 0,
 "worksheets": [
  {
   "cells": [
    {
     "cell_type": "code",
     "collapsed": false,
     "input": [
      "#if this is the presenter notebook set True\n",
      "#this computer should then be runing the clicker_server\n",
      "#if clicker_nb_tools is not present, switch to non presenter mode\n",
      "\n",
      "presenter_version = False\n",
      "try:\n",
      "    from clicker_nb_tools import ask\n",
      "except ImportError:\n",
      "    presenter_version = False\n",
      "    \n",
      "if not presenter_version:\n",
      "    #replace with a dummy ask() function\n",
      "    def ask(*args,**kwargs):\n",
      "        print 'client notebook'\n",
      "        return None\n",
      "    \n",
      "from python_tutor_nb_tools import disp_code"
     ],
     "language": "python",
     "metadata": {},
     "outputs": [],
     "prompt_number": 1
    },
    {
     "cell_type": "markdown",
     "metadata": {},
     "source": [
      "# Python types"
     ]
    },
    {
     "cell_type": "markdown",
     "metadata": {},
     "source": [
      "* Python uses **duck typing** : \n",
      "\n",
      "  >If it looks like a duck, swims like a duck, and quacks like a duck, then it probably is a duck.\n",
      "\n",
      "\n",
      "\n",
      "* Python has **typed objects** but untyped **variable names**. \n",
      "\n",
      "* Type constraints are **not checked** at compile time.\n",
      "\n",
      "* Python is **strongly typed**, forbidding operations that are not well-defined"
     ]
    },
    {
     "cell_type": "markdown",
     "metadata": {},
     "source": [
      "## simple types Int, Float, String"
     ]
    },
    {
     "cell_type": "code",
     "collapsed": false,
     "input": [
      "a = 'azerty'\n",
      "print type(a)\n",
      "\n",
      "b = 123\n",
      "print type(b)\n",
      "\n",
      "c = 123.0\n",
      "print type(c)"
     ],
     "language": "python",
     "metadata": {},
     "outputs": [
      {
       "output_type": "stream",
       "stream": "stdout",
       "text": [
        "<type 'str'>\n",
        "<type 'int'>\n",
        "<type 'float'>\n"
       ]
      }
     ],
     "prompt_number": 2
    },
    {
     "cell_type": "markdown",
     "metadata": {},
     "source": [
      "## operators"
     ]
    },
    {
     "cell_type": "code",
     "collapsed": false,
     "input": [
      "print b + c"
     ],
     "language": "python",
     "metadata": {},
     "outputs": [
      {
       "output_type": "stream",
       "stream": "stdout",
       "text": [
        "247.0\n"
       ]
      }
     ],
     "prompt_number": 5
    },
    {
     "cell_type": "code",
     "collapsed": false,
     "input": [
      "print a + b"
     ],
     "language": "python",
     "metadata": {},
     "outputs": [
      {
       "ename": "TypeError",
       "evalue": "cannot concatenate 'str' and 'int' objects",
       "output_type": "pyerr",
       "traceback": [
        "\u001b[1;31m---------------------------------------------------------------------------\u001b[0m\n\u001b[1;31mTypeError\u001b[0m                                 Traceback (most recent call last)",
        "\u001b[1;32m<ipython-input-4-31453f7268bc>\u001b[0m in \u001b[0;36m<module>\u001b[1;34m()\u001b[0m\n\u001b[1;32m----> 1\u001b[1;33m \u001b[1;32mprint\u001b[0m \u001b[0ma\u001b[0m\u001b[1;33m+\u001b[0m\u001b[0mb\u001b[0m\u001b[1;33m\u001b[0m\u001b[0m\n\u001b[0m",
        "\u001b[1;31mTypeError\u001b[0m: cannot concatenate 'str' and 'int' objects"
       ]
      }
     ],
     "prompt_number": 4
    },
    {
     "cell_type": "code",
     "collapsed": false,
     "input": [
      "print ':-) ' * 10"
     ],
     "language": "python",
     "metadata": {},
     "outputs": [
      {
       "output_type": "stream",
       "stream": "stdout",
       "text": [
        ":-) :-) :-) :-) :-) :-) :-) :-) :-) :-) \n"
       ]
      }
     ],
     "prompt_number": 43
    },
    {
     "cell_type": "markdown",
     "metadata": {},
     "source": [
      "## mutable and immutable"
     ]
    },
    {
     "cell_type": "code",
     "collapsed": false,
     "input": [
      "a[0] = 'A'"
     ],
     "language": "python",
     "metadata": {},
     "outputs": [
      {
       "ename": "TypeError",
       "evalue": "'str' object does not support item assignment",
       "output_type": "pyerr",
       "traceback": [
        "\u001b[1;31m---------------------------------------------------------------------------\u001b[0m\n\u001b[1;31mTypeError\u001b[0m                                 Traceback (most recent call last)",
        "\u001b[1;32m<ipython-input-6-2cb667d7fca7>\u001b[0m in \u001b[0;36m<module>\u001b[1;34m()\u001b[0m\n\u001b[1;32m----> 1\u001b[1;33m \u001b[0ma\u001b[0m\u001b[1;33m[\u001b[0m\u001b[1;36m0\u001b[0m\u001b[1;33m]\u001b[0m \u001b[1;33m=\u001b[0m \u001b[1;34m'A'\u001b[0m\u001b[1;33m\u001b[0m\u001b[0m\n\u001b[0m",
        "\u001b[1;31mTypeError\u001b[0m: 'str' object does not support item assignment"
       ]
      }
     ],
     "prompt_number": 6
    },
    {
     "cell_type": "markdown",
     "metadata": {},
     "source": [
      "## string indexing"
     ]
    },
    {
     "cell_type": "code",
     "collapsed": false,
     "input": [
      "print a[0],a[-1],a[::-1]"
     ],
     "language": "python",
     "metadata": {},
     "outputs": [
      {
       "output_type": "stream",
       "stream": "stdout",
       "text": [
        "a y ytreza\n"
       ]
      }
     ],
     "prompt_number": 7
    },
    {
     "cell_type": "markdown",
     "metadata": {},
     "source": [
      "**Data structure in Python**\n",
      "\n",
      "## List"
     ]
    },
    {
     "cell_type": "code",
     "collapsed": true,
     "input": [
      "s1 = 'Pierre'\n",
      "s2 = 'Pol'\n",
      "s3 = 'Jacques'\n",
      "s4 = 'Jules'"
     ],
     "language": "python",
     "metadata": {},
     "outputs": [],
     "prompt_number": 8
    },
    {
     "cell_type": "code",
     "collapsed": false,
     "input": [
      "group = [s1,s2,s3,s1]\n",
      "type(group)"
     ],
     "language": "python",
     "metadata": {},
     "outputs": [
      {
       "output_type": "pyout",
       "prompt_number": 9,
       "text": [
        "list"
       ]
      }
     ],
     "prompt_number": 9
    },
    {
     "cell_type": "code",
     "collapsed": true,
     "input": [
      "group.append(s1)"
     ],
     "language": "python",
     "metadata": {},
     "outputs": [],
     "prompt_number": 10
    },
    {
     "cell_type": "code",
     "collapsed": false,
     "input": [
      "print len(group)"
     ],
     "language": "python",
     "metadata": {},
     "outputs": [
      {
       "output_type": "stream",
       "stream": "stdout",
       "text": [
        "5\n"
       ]
      }
     ],
     "prompt_number": 11
    },
    {
     "cell_type": "code",
     "collapsed": false,
     "input": [
      "print group"
     ],
     "language": "python",
     "metadata": {},
     "outputs": [
      {
       "output_type": "stream",
       "stream": "stdout",
       "text": [
        "['Pierre', 'Pol', 'Jacques', 'Pierre', 'Pierre']\n"
       ]
      }
     ],
     "prompt_number": 12
    },
    {
     "cell_type": "code",
     "collapsed": false,
     "input": [
      "print s1 in group\n",
      "print s4 in group"
     ],
     "language": "python",
     "metadata": {},
     "outputs": [
      {
       "output_type": "stream",
       "stream": "stdout",
       "text": [
        "True\n",
        "False\n"
       ]
      }
     ],
     "prompt_number": 13
    },
    {
     "cell_type": "markdown",
     "metadata": {},
     "source": [
      "## Set"
     ]
    },
    {
     "cell_type": "code",
     "collapsed": false,
     "input": [
      "team1 = set(group)\n",
      "print team1"
     ],
     "language": "python",
     "metadata": {},
     "outputs": [
      {
       "output_type": "stream",
       "stream": "stdout",
       "text": [
        "set(['Pol', 'Pierre', 'Jacques'])\n"
       ]
      }
     ],
     "prompt_number": 14
    },
    {
     "cell_type": "code",
     "collapsed": false,
     "input": [
      "print s1 in team1\n",
      "print s4 in team1"
     ],
     "language": "python",
     "metadata": {},
     "outputs": [
      {
       "output_type": "stream",
       "stream": "stdout",
       "text": [
        "True\n",
        "False\n"
       ]
      }
     ],
     "prompt_number": 15
    },
    {
     "cell_type": "code",
     "collapsed": true,
     "input": [
      "team2 = set([s4])"
     ],
     "language": "python",
     "metadata": {},
     "outputs": [],
     "prompt_number": 16
    },
    {
     "cell_type": "code",
     "collapsed": false,
     "input": [
      "print team1 - team2\n",
      "print team1 | team2\n",
      "print team1 & team2\n",
      "print team1 ^ team2"
     ],
     "language": "python",
     "metadata": {},
     "outputs": [
      {
       "output_type": "stream",
       "stream": "stdout",
       "text": [
        "set(['Pol', 'Pierre', 'Jacques'])\n",
        "set(['Jules', 'Pol', 'Pierre', 'Jacques'])\n",
        "set([])\n",
        "set(['Jules', 'Pol', 'Pierre', 'Jacques'])\n"
       ]
      }
     ],
     "prompt_number": 17
    },
    {
     "cell_type": "markdown",
     "metadata": {},
     "source": [
      "## Dictionnaries"
     ]
    },
    {
     "cell_type": "code",
     "collapsed": false,
     "input": [
      "d = {}\n",
      "print type(d)"
     ],
     "language": "python",
     "metadata": {},
     "outputs": [
      {
       "output_type": "stream",
       "stream": "stdout",
       "text": [
        "<type 'dict'>\n"
       ]
      }
     ],
     "prompt_number": 18
    },
    {
     "cell_type": "code",
     "collapsed": false,
     "input": [
      "d['name'] = 'Pierre'\n",
      "d['age'] = 25\n",
      "\n",
      "print d\n",
      "print d['age'],d['name']"
     ],
     "language": "python",
     "metadata": {},
     "outputs": [
      {
       "output_type": "stream",
       "stream": "stdout",
       "text": [
        "{'age': 25, 'name': 'Pierre'}\n",
        "25 Pierre\n"
       ]
      }
     ],
     "prompt_number": 19
    },
    {
     "cell_type": "code",
     "collapsed": false,
     "input": [
      "for key in d:\n",
      "    print key, d[key]\n",
      "    "
     ],
     "language": "python",
     "metadata": {},
     "outputs": [
      {
       "output_type": "stream",
       "stream": "stdout",
       "text": [
        "age 25\n",
        "name Pierre\n"
       ]
      }
     ],
     "prompt_number": 20
    },
    {
     "cell_type": "markdown",
     "metadata": {},
     "source": [
      "## Objects\n",
      "\n",
      "* everything in python is object, **id()** returns the \u201cidentity\u201d of an object\n",
      "* data are garbage collected, **del** forces the destruction of an object"
     ]
    },
    {
     "cell_type": "code",
     "collapsed": false,
     "input": [
      "a = 5\n",
      "print id(a)\n",
      "\n",
      "b = 6\n",
      "print id(b)\n",
      "\n",
      "c = a\n",
      "print id(c)\n",
      "\n",
      "print 'a',a\n",
      "del a\n",
      "print 'b',b\n",
      "print 'c',c\n",
      "print 'a',a\n"
     ],
     "language": "python",
     "metadata": {},
     "outputs": [
      {
       "ename": "NameError",
       "evalue": "name 'a' is not defined",
       "output_type": "pyerr",
       "traceback": [
        "\u001b[1;31m---------------------------------------------------------------------------\u001b[0m\n\u001b[1;31mNameError\u001b[0m                                 Traceback (most recent call last)",
        "\u001b[1;32m<ipython-input-32-625850ed9ea3>\u001b[0m in \u001b[0;36m<module>\u001b[1;34m()\u001b[0m\n\u001b[0;32m     12\u001b[0m \u001b[1;32mprint\u001b[0m \u001b[1;34m'b'\u001b[0m\u001b[1;33m,\u001b[0m\u001b[0mb\u001b[0m\u001b[1;33m\u001b[0m\u001b[0m\n\u001b[0;32m     13\u001b[0m \u001b[1;32mprint\u001b[0m \u001b[1;34m'c'\u001b[0m\u001b[1;33m,\u001b[0m\u001b[0mc\u001b[0m\u001b[1;33m\u001b[0m\u001b[0m\n\u001b[1;32m---> 14\u001b[1;33m \u001b[1;32mprint\u001b[0m \u001b[1;34m'a'\u001b[0m\u001b[1;33m,\u001b[0m\u001b[0ma\u001b[0m\u001b[1;33m\u001b[0m\u001b[0m\n\u001b[0m",
        "\u001b[1;31mNameError\u001b[0m: name 'a' is not defined"
       ]
      },
      {
       "output_type": "stream",
       "stream": "stdout",
       "text": [
        "29658184\n",
        "29658160\n",
        "29658184\n",
        "a 5\n",
        "b 6\n",
        "c 5\n",
        "a"
       ]
      }
     ],
     "prompt_number": 32
    },
    {
     "cell_type": "code",
     "collapsed": false,
     "input": [
      "disp_code(_i,h=500)"
     ],
     "language": "python",
     "metadata": {},
     "outputs": [
      {
       "html": [
        "<iframe width=\"1024\" height=\"500\" frameborder=\"0\"src=\"http://pythontutor.com/iframe-embed.html#code=a+%3D+5%0Aprint+id%28a%29%0A%0Ab+%3D+6%0Aprint+id%28b%29%0A%0Ac+%3D+a%0Aprint+id%28c%29%0A%0Aprint+%27a%27%2Ca%0Adel+a%0Aprint+%27b%27%2Cb%0Aprint+%27c%27%2Cc%0Aprint+%27a%27%2Ca&cumulative=False&heapPrimitives=false&drawParentPointers=False&textReferences=False&showOnlyOutputs=False&py=2&curInstr=0\"> </iframe>"
       ],
       "output_type": "pyout",
       "prompt_number": 33,
       "text": [
        "<IPython.core.display.HTML at 0x3c2b8d0>"
       ]
      },
      {
       "output_type": "stream",
       "stream": "stdout",
       "text": [
        "\n"
       ]
      }
     ],
     "prompt_number": 33
    },
    {
     "cell_type": "markdown",
     "metadata": {},
     "source": [
      "* Programmers can define their **own types** using classes, Python is **object-oriented**"
     ]
    },
    {
     "cell_type": "code",
     "collapsed": true,
     "input": [
      "class Student():\n",
      "    def __init__(self,name,grade):\n",
      "        self.name = name\n",
      "        print id(self.name)\n",
      "        self.grade = grade\n",
      "    def succeeds(self):\n",
      "        return self.grade>10   \n",
      "\n",
      "s1 = Student('Jacky',17)\n",
      "\n",
      "print s1\n",
      "print type(s1)\n",
      "n = s1.name\n",
      "print id(n)\n",
      "g = s1.grade\n",
      "result = s1.succeeds()\n",
      "\n",
      "print n,g,result"
     ],
     "language": "python",
     "metadata": {},
     "outputs": [
      {
       "output_type": "stream",
       "stream": "stdout",
       "text": [
        "63131440\n",
        "<__main__.Student instance at 0x3c39d40>\n",
        "<type 'instance'>\n",
        "63131440\n",
        "Jacky 17 True\n"
       ]
      }
     ],
     "prompt_number": 30
    },
    {
     "cell_type": "code",
     "collapsed": false,
     "input": [
      "disp_code(_i,h=500)"
     ],
     "language": "python",
     "metadata": {},
     "outputs": [
      {
       "html": [
        "<iframe width=\"1024\" height=\"500\" frameborder=\"0\"src=\"http://pythontutor.com/iframe-embed.html#code=class+Student%28%29%3A%0A++++def+__init__%28self%2Cname%2Cgrade%29%3A%0A++++++++self.name+%3D+name%0A++++++++print+id%28self.name%29%0A++++++++self.grade+%3D+grade%0A++++def+succeeds%28self%29%3A%0A++++++++return+self.grade%3E10+++%0A%0As1+%3D+Student%28%27Jacky%27%2C17%29%0A%0Aprint+s1%0Aprint+type%28s1%29%0An+%3D+s1.name%0Aprint+id%28n%29%0Ag+%3D+s1.grade%0Aresult+%3D+s1.succeeds%28%29%0A%0Aprint+n%2Cg%2Cresult&cumulative=False&heapPrimitives=false&drawParentPointers=False&textReferences=False&showOnlyOutputs=False&py=2&curInstr=0\"> </iframe>"
       ],
       "output_type": "pyout",
       "prompt_number": 31,
       "text": [
        "<IPython.core.display.HTML at 0x3c37790>"
       ]
      }
     ],
     "prompt_number": 31
    },
    {
     "cell_type": "markdown",
     "metadata": {},
     "source": [
      "## Test in Python"
     ]
    },
    {
     "cell_type": "code",
     "collapsed": false,
     "input": [
      "a = 5\n",
      "b = 6\n",
      "if a>b:\n",
      "    print 'a>b'\n",
      "else:\n",
      "    print 'a<b'\n",
      "        "
     ],
     "language": "python",
     "metadata": {},
     "outputs": []
    },
    {
     "cell_type": "markdown",
     "metadata": {},
     "source": [
      "## Loop in Python"
     ]
    },
    {
     "cell_type": "code",
     "collapsed": false,
     "input": [
      "for i in range(10):\n",
      "    print i"
     ],
     "language": "python",
     "metadata": {},
     "outputs": []
    },
    {
     "cell_type": "code",
     "collapsed": false,
     "input": [
      "for i in range(0,10,2):\n",
      "    print i"
     ],
     "language": "python",
     "metadata": {},
     "outputs": []
    },
    {
     "cell_type": "code",
     "collapsed": false,
     "input": [
      "while i>5:\n",
      "    print i\n",
      "    i -= 1"
     ],
     "language": "python",
     "metadata": {},
     "outputs": []
    },
    {
     "cell_type": "markdown",
     "metadata": {},
     "source": [
      "## Function definition"
     ]
    },
    {
     "cell_type": "code",
     "collapsed": false,
     "input": [
      "def compute_area(width,height):\n",
      "    \"\"\"This function returns area of a rectangle\"\"\"\n",
      "    return width*height\n",
      "\n",
      "w = 10\n",
      "h = 10.\n",
      "print compute_area(w,h)"
     ],
     "language": "python",
     "metadata": {},
     "outputs": [
      {
       "output_type": "stream",
       "stream": "stdout",
       "text": [
        "100.0\n"
       ]
      }
     ],
     "prompt_number": 34
    },
    {
     "cell_type": "code",
     "collapsed": false,
     "input": [
      "compute_area.__doc__"
     ],
     "language": "python",
     "metadata": {},
     "outputs": [
      {
       "output_type": "pyout",
       "prompt_number": 35,
       "text": [
        "'This function returns area of a rectangle'"
       ]
      }
     ],
     "prompt_number": 35
    },
    {
     "cell_type": "code",
     "collapsed": false,
     "input": [
      "help(compute_area)"
     ],
     "language": "python",
     "metadata": {},
     "outputs": [
      {
       "output_type": "stream",
       "stream": "stdout",
       "text": [
        "Help on function compute_area in module __main__:\n",
        "\n",
        "compute_area(width, height)\n",
        "    This function returns area of a rectangle\n",
        "\n"
       ]
      }
     ],
     "prompt_number": 36
    },
    {
     "cell_type": "code",
     "collapsed": true,
     "input": [
      "?compute_area"
     ],
     "language": "python",
     "metadata": {},
     "outputs": [],
     "prompt_number": 37
    },
    {
     "cell_type": "code",
     "collapsed": true,
     "input": [
      "s1 = Student('Pierre',12)\n",
      "s2 = Student('Pol',9)\n",
      "s3 = Student('Jacques',18)\n",
      "s4 = Student('Julien',17)"
     ],
     "language": "python",
     "metadata": {},
     "outputs": [
      {
       "output_type": "stream",
       "stream": "stdout",
       "text": [
        "63120896\n",
        "62518296\n",
        "63120800\n",
        "63162672\n"
       ]
      }
     ],
     "prompt_number": 38
    },
    {
     "cell_type": "code",
     "collapsed": false,
     "input": [
      "print s1"
     ],
     "language": "python",
     "metadata": {},
     "outputs": [
      {
       "output_type": "stream",
       "stream": "stdout",
       "text": [
        "<__main__.Student instance at 0x3c3d710>\n"
       ]
      }
     ],
     "prompt_number": 39
    },
    {
     "cell_type": "code",
     "collapsed": false,
     "input": [
      "print s1.name"
     ],
     "language": "python",
     "metadata": {},
     "outputs": [
      {
       "output_type": "stream",
       "stream": "stdout",
       "text": [
        "Pierre\n"
       ]
      }
     ],
     "prompt_number": 40
    },
    {
     "cell_type": "code",
     "collapsed": true,
     "input": [
      "group = {s1,s2,s3,s4}\n",
      "for s in group:\n",
      "    print s.succeeds(),s.name,s.grade"
     ],
     "language": "python",
     "metadata": {},
     "outputs": [
      {
       "output_type": "stream",
       "stream": "stdout",
       "text": [
        "False Pol 9\n",
        "True Jacques 18\n",
        "True Julien 17\n",
        "True Pierre 12\n"
       ]
      }
     ],
     "prompt_number": 42
    },
    {
     "cell_type": "markdown",
     "metadata": {},
     "source": [
      "**String manipulation**\n",
      "\n",
      "* a string is **immutable**\n",
      "* is addressable as a **list**\n",
      "* is delimited by ' \" or \"\"\"\n",
      "* different format mechanism exists"
     ]
    },
    {
     "cell_type": "code",
     "collapsed": false,
     "input": [
      "s1 = 'azerty'\n",
      "s2 = \"qwerty\"\n",
      "s3 = \"\"\"multiline\n",
      "string\"\"\"\n",
      "\n",
      "print s1,s2\n",
      "print s3"
     ],
     "language": "python",
     "metadata": {},
     "outputs": []
    },
    {
     "cell_type": "code",
     "collapsed": false,
     "input": [
      "print s1+s2+s3"
     ],
     "language": "python",
     "metadata": {},
     "outputs": []
    },
    {
     "cell_type": "code",
     "collapsed": false,
     "input": [
      "print s1[1:3]\n",
      "print s1[1:-1]"
     ],
     "language": "python",
     "metadata": {},
     "outputs": []
    },
    {
     "cell_type": "code",
     "collapsed": false,
     "input": [
      "print s1[-1:1:-1]"
     ],
     "language": "python",
     "metadata": {},
     "outputs": []
    },
    {
     "cell_type": "code",
     "collapsed": false,
     "input": [
      "print 'mordnilap'[::-1]"
     ],
     "language": "python",
     "metadata": {},
     "outputs": []
    },
    {
     "cell_type": "code",
     "collapsed": false,
     "input": [
      "\n",
      "print 'Hello %s, your are %d years old.'%('Pol',20)"
     ],
     "language": "python",
     "metadata": {},
     "outputs": []
    },
    {
     "cell_type": "code",
     "collapsed": false,
     "input": [
      "data = {'name':'Pol','age':20}\n",
      "print data\n",
      "print 'Hello %(name)s, your are %(age)d years old.'%data"
     ],
     "language": "python",
     "metadata": {},
     "outputs": []
    },
    {
     "cell_type": "code",
     "collapsed": false,
     "input": [
      "print 'Hello {name}, your are {age} years old.'.format(**data)"
     ],
     "language": "python",
     "metadata": {},
     "outputs": []
    },
    {
     "cell_type": "code",
     "collapsed": true,
     "input": [],
     "language": "python",
     "metadata": {},
     "outputs": []
    }
   ],
   "metadata": {}
  }
 ]
}