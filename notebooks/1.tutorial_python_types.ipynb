{
 "metadata": {
  "name": "1.tutorial_python_types"
 },
 "nbformat": 3,
 "nbformat_minor": 0,
 "worksheets": [
  {
   "cells": [
    {
     "cell_type": "code",
     "collapsed": false,
     "input": [
      "from default import *"
     ],
     "language": "python",
     "metadata": {},
     "outputs": []
    },
    {
     "cell_type": "markdown",
     "metadata": {},
     "source": [
      "# Python types"
     ]
    },
    {
     "cell_type": "markdown",
     "metadata": {},
     "source": [
      "* Python uses **duck typing** : \n",
      "\n",
      "  >If it looks like a duck, swims like a duck, and quacks like a duck, then it probably is a duck.\n",
      "\n",
      "* Type constraints are **not checked** at compile time.\n",
      "\n",
      "* Python is **strongly typed**, forbidding operations that are not well-defined"
     ]
    },
    {
     "cell_type": "markdown",
     "metadata": {},
     "source": [
      "* Python has **typed objects** but untyped **variable names**. \n",
      "\n"
     ]
    },
    {
     "cell_type": "markdown",
     "metadata": {},
     "source": [
      "## simple types Int, Float, String"
     ]
    },
    {
     "cell_type": "code",
     "collapsed": false,
     "input": [
      "a = 'azerty'\n",
      "print type(a)\n",
      "\n",
      "b = 123\n",
      "print type(b)\n",
      "\n",
      "c = 123.0\n",
      "print type(c)"
     ],
     "language": "python",
     "metadata": {},
     "outputs": []
    },
    {
     "cell_type": "markdown",
     "metadata": {},
     "source": [
      "## operators"
     ]
    },
    {
     "cell_type": "code",
     "collapsed": false,
     "input": [
      "print b + c"
     ],
     "language": "python",
     "metadata": {},
     "outputs": []
    },
    {
     "cell_type": "code",
     "collapsed": false,
     "input": [
      "print a + b"
     ],
     "language": "python",
     "metadata": {},
     "outputs": []
    },
    {
     "cell_type": "code",
     "collapsed": false,
     "input": [
      "print ':-) ' * 10"
     ],
     "language": "python",
     "metadata": {},
     "outputs": []
    },
    {
     "cell_type": "markdown",
     "metadata": {},
     "source": [
      "relatively common"
     ]
    },
    {
     "cell_type": "code",
     "collapsed": false,
     "input": [
      "5>6"
     ],
     "language": "python",
     "metadata": {},
     "outputs": []
    },
    {
     "cell_type": "markdown",
     "metadata": {},
     "source": [
      "quite uncommon"
     ]
    },
    {
     "cell_type": "code",
     "collapsed": false,
     "input": [
      "3>2>1"
     ],
     "language": "python",
     "metadata": {},
     "outputs": []
    },
    {
     "cell_type": "markdown",
     "metadata": {},
     "source": [
      "## mutable and immutable"
     ]
    },
    {
     "cell_type": "code",
     "collapsed": false,
     "input": [
      "a[0] = 'A'"
     ],
     "language": "python",
     "metadata": {},
     "outputs": []
    },
    {
     "cell_type": "markdown",
     "metadata": {},
     "source": [
      "## string indexing"
     ]
    },
    {
     "cell_type": "code",
     "collapsed": false,
     "input": [
      "print a[0],a[-1],a[::-1]"
     ],
     "language": "python",
     "metadata": {},
     "outputs": []
    },
    {
     "cell_type": "markdown",
     "metadata": {},
     "source": [
      "**Data structure in Python**\n",
      "\n",
      "## List"
     ]
    },
    {
     "cell_type": "code",
     "collapsed": true,
     "input": [
      "s1 = 'Pierre'\n",
      "s2 = 'Pol'\n",
      "s3 = 'Jacques'\n",
      "s4 = 'Jules'"
     ],
     "language": "python",
     "metadata": {},
     "outputs": []
    },
    {
     "cell_type": "code",
     "collapsed": false,
     "input": [
      "group = [s1,s2,s3,s4]\n",
      "type(group)"
     ],
     "language": "python",
     "metadata": {},
     "outputs": []
    },
    {
     "cell_type": "code",
     "collapsed": true,
     "input": [
      "group.append(s3)"
     ],
     "language": "python",
     "metadata": {},
     "outputs": []
    },
    {
     "cell_type": "code",
     "collapsed": false,
     "input": [
      "print len(group)"
     ],
     "language": "python",
     "metadata": {},
     "outputs": []
    },
    {
     "cell_type": "code",
     "collapsed": false,
     "input": [
      "print group"
     ],
     "language": "python",
     "metadata": {},
     "outputs": []
    },
    {
     "cell_type": "markdown",
     "metadata": {},
     "source": [
      "list is mutable"
     ]
    },
    {
     "cell_type": "code",
     "collapsed": false,
     "input": [
      "group[0] = 'TROLL'"
     ],
     "language": "python",
     "metadata": {},
     "outputs": []
    },
    {
     "cell_type": "markdown",
     "metadata": {},
     "source": [
      "to check if an element is in a list"
     ]
    },
    {
     "cell_type": "code",
     "collapsed": false,
     "input": [
      "print s1 in group\n",
      "print s4 in group"
     ],
     "language": "python",
     "metadata": {},
     "outputs": []
    },
    {
     "cell_type": "markdown",
     "metadata": {},
     "source": [
      "a simple way to create list of integers : **range()**"
     ]
    },
    {
     "cell_type": "code",
     "collapsed": false,
     "input": [
      "print range(10)\n",
      "print range(1,10)\n",
      "print range(1,10,2)\n",
      "print range(10,1)\n",
      "print range(10,1,-1)\n"
     ],
     "language": "python",
     "metadata": {},
     "outputs": [
      {
       "output_type": "stream",
       "stream": "stdout",
       "text": [
        "[0, 1, 2, 3, 4, 5, 6, 7, 8, 9]\n",
        "[1, 2, 3, 4, 5, 6, 7, 8, 9]\n",
        "[1, 3, 5, 7, 9]\n",
        "[]\n",
        "[10, 9, 8, 7, 6, 5, 4, 3, 2]\n"
       ]
      }
     ],
     "prompt_number": 45
    },
    {
     "cell_type": "markdown",
     "metadata": {},
     "source": [
      "## Set"
     ]
    },
    {
     "cell_type": "code",
     "collapsed": false,
     "input": [
      "team1 = set(group)\n",
      "print team1"
     ],
     "language": "python",
     "metadata": {},
     "outputs": []
    },
    {
     "cell_type": "code",
     "collapsed": false,
     "input": [
      "print s1 in team1\n",
      "print s4 in team1"
     ],
     "language": "python",
     "metadata": {},
     "outputs": []
    },
    {
     "cell_type": "code",
     "collapsed": true,
     "input": [
      "team2 = set([s4])"
     ],
     "language": "python",
     "metadata": {},
     "outputs": []
    },
    {
     "cell_type": "code",
     "collapsed": false,
     "input": [
      "print team1 - team2\n",
      "print team1 | team2\n",
      "print team1 & team2\n",
      "print team1 ^ team2"
     ],
     "language": "python",
     "metadata": {},
     "outputs": []
    },
    {
     "cell_type": "markdown",
     "metadata": {},
     "source": [
      "## Dictionnaries"
     ]
    },
    {
     "cell_type": "code",
     "collapsed": false,
     "input": [
      "d = {}\n",
      "print type(d)"
     ],
     "language": "python",
     "metadata": {},
     "outputs": []
    },
    {
     "cell_type": "code",
     "collapsed": false,
     "input": [
      "d['name'] = 'Pierre'\n",
      "d['age'] = 25\n",
      "\n",
      "print d\n",
      "print d['age'],d['name']"
     ],
     "language": "python",
     "metadata": {},
     "outputs": []
    },
    {
     "cell_type": "code",
     "collapsed": false,
     "input": [
      "for key in d:\n",
      "    print key, d[key]\n",
      "    "
     ],
     "language": "python",
     "metadata": {},
     "outputs": []
    },
    {
     "cell_type": "markdown",
     "metadata": {},
     "source": [
      "remark on indentation\n",
      "\n",
      ">in Python identation define block of code (as the braces do in C)\n",
      "\n",
      ">identation is usually 4 spaces (everybody use 4 spaces)"
     ]
    },
    {
     "cell_type": "markdown",
     "metadata": {},
     "source": [
      "## Objects\n",
      "\n",
      "* everything in python is object, **id()** returns the \u201cidentity\u201d of an object\n",
      "* data are garbage collected, **del** forces the destruction of an object\n",
      "* **hash()** returns the hash value of the object (integer) "
     ]
    },
    {
     "cell_type": "code",
     "collapsed": false,
     "input": [
      "a = 5\n",
      "print id(a)\n",
      "\n",
      "b = 6\n",
      "print id(b)\n",
      "\n",
      "c = a\n",
      "print id(c)\n",
      "\n",
      "print 'a',a\n",
      "del a\n",
      "print 'b',b\n",
      "print 'c',c\n",
      "print 'a',a\n"
     ],
     "language": "python",
     "metadata": {},
     "outputs": []
    },
    {
     "cell_type": "code",
     "collapsed": false,
     "input": [
      "disp_code(_i,h=500)"
     ],
     "language": "python",
     "metadata": {},
     "outputs": []
    },
    {
     "cell_type": "code",
     "collapsed": false,
     "input": [
      "def f():\n",
      "    pass\n",
      "a = 5\n",
      "print hash(a)\n",
      "print hash('azerty')\n",
      "print hash(f)"
     ],
     "language": "python",
     "metadata": {},
     "outputs": []
    },
    {
     "cell_type": "markdown",
     "metadata": {},
     "source": [
      "* Programmers can define their **own types** using classes, Python is **object-oriented**"
     ]
    },
    {
     "cell_type": "code",
     "collapsed": true,
     "input": [
      "class Student(object):\n",
      "    def __init__(self,name,grade):\n",
      "        self.name = name\n",
      "        self.grade = grade\n",
      "    def succeeds(self):\n",
      "        return self.grade>10   \n",
      "\n",
      "s1 = Student('Jacky',17)\n",
      "\n",
      "print s1\n",
      "print type(s1)\n",
      "n = s1.name\n",
      "g = s1.grade\n",
      "result = s1.succeeds()\n",
      "\n",
      "print n,g,result"
     ],
     "language": "python",
     "metadata": {},
     "outputs": []
    },
    {
     "cell_type": "code",
     "collapsed": false,
     "input": [
      "disp_code(_i,h=500)"
     ],
     "language": "python",
     "metadata": {},
     "outputs": []
    },
    {
     "cell_type": "markdown",
     "metadata": {},
     "source": [
      "## Test in Python"
     ]
    },
    {
     "cell_type": "code",
     "collapsed": false,
     "input": [
      "a = 5\n",
      "b = 6\n",
      "if a>b:\n",
      "    print 'a>b'\n",
      "else:\n",
      "    print 'a<b'\n",
      "        "
     ],
     "language": "python",
     "metadata": {},
     "outputs": []
    },
    {
     "cell_type": "markdown",
     "metadata": {},
     "source": [
      "## Loop in Python"
     ]
    },
    {
     "cell_type": "code",
     "collapsed": false,
     "input": [
      "for i in range(10):\n",
      "    print i"
     ],
     "language": "python",
     "metadata": {},
     "outputs": []
    },
    {
     "cell_type": "code",
     "collapsed": false,
     "input": [
      "for i in range(0,10,2):\n",
      "    print i"
     ],
     "language": "python",
     "metadata": {},
     "outputs": []
    },
    {
     "cell_type": "code",
     "collapsed": false,
     "input": [
      "while i>5:\n",
      "    print i\n",
      "    i -= 1"
     ],
     "language": "python",
     "metadata": {},
     "outputs": []
    },
    {
     "cell_type": "markdown",
     "metadata": {},
     "source": [
      "## Function definition"
     ]
    },
    {
     "cell_type": "code",
     "collapsed": false,
     "input": [
      "def compute_area(width,height):\n",
      "    \"\"\"This function returns area of a rectangle\"\"\"\n",
      "    return width*height\n",
      "\n",
      "w = 10\n",
      "h = 10.\n",
      "print compute_area(w,h)"
     ],
     "language": "python",
     "metadata": {},
     "outputs": []
    },
    {
     "cell_type": "code",
     "collapsed": false,
     "input": [
      "compute_area.__doc__"
     ],
     "language": "python",
     "metadata": {},
     "outputs": []
    },
    {
     "cell_type": "code",
     "collapsed": false,
     "input": [
      "help(compute_area)"
     ],
     "language": "python",
     "metadata": {},
     "outputs": []
    },
    {
     "cell_type": "code",
     "collapsed": true,
     "input": [
      "?compute_area"
     ],
     "language": "python",
     "metadata": {},
     "outputs": []
    },
    {
     "cell_type": "code",
     "collapsed": true,
     "input": [
      "s1 = Student('Pierre',12)\n",
      "s2 = Student('Pol',9)\n",
      "s3 = Student('Jacques',18)\n",
      "s4 = Student('Julien',17)"
     ],
     "language": "python",
     "metadata": {},
     "outputs": []
    },
    {
     "cell_type": "code",
     "collapsed": true,
     "input": [
      "group = {s1,s2,s3,s4}\n",
      "for s in group:\n",
      "    print s.succeeds(),s.name,s.grade"
     ],
     "language": "python",
     "metadata": {},
     "outputs": []
    },
    {
     "cell_type": "markdown",
     "metadata": {},
     "source": [
      "## String manipulation\n",
      "\n",
      "* a string is **immutable**\n",
      "* is addressable as a **list**\n",
      "* is delimited by ' \" or \"\"\"\n",
      "* different format mechanism exists"
     ]
    },
    {
     "cell_type": "code",
     "collapsed": false,
     "input": [
      "s1 = 'azerty'\n",
      "s2 = \"qwerty\"\n",
      "s3 = \"\"\"multiline\n",
      "string\"\"\"\n",
      "\n",
      "print s1,s2\n",
      "print s3"
     ],
     "language": "python",
     "metadata": {},
     "outputs": []
    },
    {
     "cell_type": "code",
     "collapsed": false,
     "input": [
      "print s1+s2+s3"
     ],
     "language": "python",
     "metadata": {},
     "outputs": []
    },
    {
     "cell_type": "code",
     "collapsed": false,
     "input": [
      "print s1[1:3]\n",
      "print s1[1:-1]"
     ],
     "language": "python",
     "metadata": {},
     "outputs": []
    },
    {
     "cell_type": "code",
     "collapsed": false,
     "input": [
      "print s1[-1:1:-1]"
     ],
     "language": "python",
     "metadata": {},
     "outputs": []
    },
    {
     "cell_type": "code",
     "collapsed": false,
     "input": [
      "print 'mordnilap'[::-1]"
     ],
     "language": "python",
     "metadata": {},
     "outputs": []
    },
    {
     "cell_type": "code",
     "collapsed": false,
     "input": [
      "\n",
      "print 'Hello %s, your are %d years old.'%('Pol',20)"
     ],
     "language": "python",
     "metadata": {},
     "outputs": []
    },
    {
     "cell_type": "code",
     "collapsed": false,
     "input": [
      "data = {'name':'Pol','age':20}\n",
      "print data\n",
      "print 'Hello %(name)s, your are %(age)d years old.'%data"
     ],
     "language": "python",
     "metadata": {},
     "outputs": []
    },
    {
     "cell_type": "code",
     "collapsed": false,
     "input": [
      "print 'Hello {name}, your are {age} years old.'.format(**data)"
     ],
     "language": "python",
     "metadata": {},
     "outputs": []
    },
    {
     "cell_type": "markdown",
     "metadata": {},
     "source": [
      "to join string"
     ]
    },
    {
     "cell_type": "code",
     "collapsed": false,
     "input": [
      "';'.join(['a','b','c'])"
     ],
     "language": "python",
     "metadata": {},
     "outputs": []
    },
    {
     "cell_type": "markdown",
     "metadata": {},
     "source": [
      "## List comprehension"
     ]
    },
    {
     "cell_type": "code",
     "collapsed": false,
     "input": [
      "e = [' %s'%s for s in 'Olivier']\n",
      "print e"
     ],
     "language": "python",
     "metadata": {},
     "outputs": []
    },
    {
     "cell_type": "code",
     "collapsed": false,
     "input": [
      "print ''.join(e)"
     ],
     "language": "python",
     "metadata": {},
     "outputs": []
    },
    {
     "cell_type": "code",
     "collapsed": false,
     "input": [
      "e = [' %s'%s for s in 'Olivier' if s>'i']\n",
      "print e"
     ],
     "language": "python",
     "metadata": {},
     "outputs": []
    },
    {
     "cell_type": "markdown",
     "metadata": {},
     "source": [
      "## other python functions"
     ]
    },
    {
     "cell_type": "code",
     "collapsed": false,
     "input": [
      "def test(x): \n",
      "    return 3<x<8\n",
      "\n",
      "filter(test, range(1, 11))"
     ],
     "language": "python",
     "metadata": {},
     "outputs": []
    },
    {
     "cell_type": "code",
     "collapsed": false,
     "input": [
      "def cube(x): \n",
      "    return x*x*x\n",
      "\n",
      "map(cube, range(1, 11))"
     ],
     "language": "python",
     "metadata": {},
     "outputs": []
    },
    {
     "cell_type": "code",
     "collapsed": false,
     "input": [
      "def add(x,y): \n",
      "    return x+y\n",
      "\n",
      "print reduce(add, range(1, 10))\n",
      "print 1+2+3+4+5+6+7+8+9"
     ],
     "language": "python",
     "metadata": {},
     "outputs": []
    },
    {
     "cell_type": "code",
     "collapsed": false,
     "input": [],
     "language": "python",
     "metadata": {},
     "outputs": []
    }
   ],
   "metadata": {}
  }
 ]
}