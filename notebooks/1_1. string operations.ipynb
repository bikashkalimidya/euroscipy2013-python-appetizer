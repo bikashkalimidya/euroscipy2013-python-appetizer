{
 "metadata": {
  "name": "1_1. string operations"
 },
 "nbformat": 3,
 "nbformat_minor": 0,
 "worksheets": [
  {
   "cells": [
    {
     "cell_type": "code",
     "collapsed": false,
     "input": [
      "from default import *\n",
      "def_time = 120"
     ],
     "language": "python",
     "metadata": {},
     "outputs": []
    },
    {
     "cell_type": "markdown",
     "metadata": {},
     "source": [
      "# String operations\n",
      "\n",
      "* see [common String operations](http://docs.python.org/2/library/string.html?highlight=string#module-string)"
     ]
    },
    {
     "cell_type": "markdown",
     "metadata": {},
     "source": [
      "indexing\n",
      "\n",
      "* string are like immutable lists"
     ]
    },
    {
     "cell_type": "code",
     "collapsed": false,
     "input": [
      "a = 'azerty'\n",
      "print a[0],a[-1],a[::-1]"
     ],
     "language": "python",
     "metadata": {},
     "outputs": []
    },
    {
     "cell_type": "code",
     "collapsed": false,
     "input": [
      "s1 = 'azerty'\n",
      "s2 = \"qwerty\"\n",
      "s3 = \"\"\"multiline...\n",
      "...string\"\"\"\n",
      "\n",
      "print s1\n",
      "print s2\n",
      "print s3"
     ],
     "language": "python",
     "metadata": {},
     "outputs": []
    },
    {
     "cell_type": "code",
     "collapsed": false,
     "input": [
      "print s1+s2+s3"
     ],
     "language": "python",
     "metadata": {},
     "outputs": []
    },
    {
     "cell_type": "code",
     "collapsed": false,
     "input": [
      "print s1[1:3]\n",
      "print s1[1:-1]"
     ],
     "language": "python",
     "metadata": {},
     "outputs": []
    },
    {
     "cell_type": "code",
     "collapsed": false,
     "input": [
      "print s1[-1:1:-1]"
     ],
     "language": "python",
     "metadata": {},
     "outputs": []
    },
    {
     "cell_type": "markdown",
     "metadata": {},
     "source": [
      "***\n",
      "\n",
      "### Question:\n",
      "\n",
      "What is the result of:\n",
      "    \n",
      "    'mordnilap'[::-1]\n",
      "\n",
      "***\n",
      "\n",
      "A. \n",
      "\n",
      "    'mordnila'\n",
      "\n",
      "B. \n",
      "\n",
      "    'ordnilap'\n",
      "\n",
      "C. \n",
      "\n",
      "    ''\n",
      "    \n",
      "D. \n",
      "    \n",
      "    'palindrom'\n",
      "\n",
      "***"
     ]
    },
    {
     "cell_type": "code",
     "collapsed": false,
     "input": [
      "ask('a,b,c,d',sec=def_time)"
     ],
     "language": "python",
     "metadata": {},
     "outputs": []
    },
    {
     "cell_type": "markdown",
     "metadata": {},
     "source": [
      "formatting\n",
      "\n",
      "* see [Format string syntax](http://docs.python.org/2/library/string.html?highlight=string#format-string-syntax)"
     ]
    },
    {
     "cell_type": "code",
     "collapsed": false,
     "input": [
      "print 'Hello %s, your are %d years old.'%('Pol',20)"
     ],
     "language": "python",
     "metadata": {},
     "outputs": []
    },
    {
     "cell_type": "code",
     "collapsed": false,
     "input": [
      "data = {'name':'Pol','age':20}\n",
      "print data\n",
      "print 'Hello %(name)s, your are %(age)d years old.'%data"
     ],
     "language": "python",
     "metadata": {},
     "outputs": []
    },
    {
     "cell_type": "code",
     "collapsed": false,
     "input": [
      "print 'Hello {name}, your are {age} years old.'.format(**data)"
     ],
     "language": "python",
     "metadata": {},
     "outputs": []
    },
    {
     "cell_type": "markdown",
     "metadata": {},
     "source": [
      "other string methods\n",
      "\n",
      "* see [String methods](http://docs.python.org/2/library/stdtypes.html#string-methods)"
     ]
    },
    {
     "cell_type": "code",
     "collapsed": false,
     "input": [
      "';'.join(['a','b','c'])"
     ],
     "language": "python",
     "metadata": {},
     "outputs": []
    },
    {
     "cell_type": "code",
     "collapsed": false,
     "input": [
      "print '    azerty    '.lstrip()\n",
      "print '    azerty    '.rstrip()\n",
      "print '    azerty    '.strip()"
     ],
     "language": "python",
     "metadata": {},
     "outputs": []
    },
    {
     "cell_type": "code",
     "collapsed": false,
     "input": [
      "'ze' in 'this is azerty'"
     ],
     "language": "python",
     "metadata": {},
     "outputs": []
    },
    {
     "cell_type": "code",
     "collapsed": false,
     "input": [
      "s = 'this is azerty'\n",
      "pos = s.find('ze')\n",
      "print pos"
     ],
     "language": "python",
     "metadata": {},
     "outputs": []
    },
    {
     "cell_type": "code",
     "collapsed": false,
     "input": [
      "t = 'The quick brown fox jumps over the lazy dog'\n",
      "\n",
      "words = t.split()\n",
      "\n",
      "print words"
     ],
     "language": "python",
     "metadata": {},
     "outputs": []
    },
    {
     "cell_type": "markdown",
     "metadata": {},
     "source": [
      "***\n",
      "\n",
      "### Question:\n",
      "\n",
      "By looking at [String methods](http://docs.python.org/2/library/stdtypes.html#string-methods):\n",
      "\n",
      "What is the result of:\n",
      "    \n",
      "    t = 'The quick brown fox jumps over the lazy dog'\n",
      "    s = t.split('fox')\n",
      "    \n",
      "***\n",
      "\n",
      "A. \n",
      "\n",
      "    ['The quick brown ', 'ox jumps over the lazy dog']\n",
      "\n",
      "B. \n",
      "\n",
      "    ['The quick brown ', ' jumps over the lazy dog']\n",
      "\n",
      "C. \n",
      "\n",
      "    ['The quick br', 'wn f', 'x jumps ', 'ver the lazy d', 'g']\n",
      "    \n",
      "D. \n",
      "    \n",
      "    ['The', 'quick', 'brown', 'jumps', 'over', 'the', 'lazy', 'dog']\n",
      "\n",
      "***"
     ]
    },
    {
     "cell_type": "code",
     "collapsed": false,
     "input": [
      "ask('a,b,c,d',sec=def_time)"
     ],
     "language": "python",
     "metadata": {},
     "outputs": []
    },
    {
     "cell_type": "code",
     "collapsed": false,
     "input": [],
     "language": "python",
     "metadata": {},
     "outputs": []
    }
   ],
   "metadata": {}
  }
 ]
}