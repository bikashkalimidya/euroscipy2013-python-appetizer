{
 "metadata": {
  "name": "1_2. python list"
 },
 "nbformat": 3,
 "nbformat_minor": 0,
 "worksheets": [
  {
   "cells": [
    {
     "cell_type": "code",
     "collapsed": false,
     "input": [
      "from default import *\n",
      "def_time = 120"
     ],
     "language": "python",
     "metadata": {},
     "outputs": []
    },
    {
     "cell_type": "markdown",
     "metadata": {},
     "source": [
      "# Python list\n",
      "\n",
      "* see [Sequence types](http://docs.python.org/2/library/stdtypes.html#sequence-types-str-unicode-list-tuple-bytearray-buffer-xrange)"
     ]
    },
    {
     "cell_type": "code",
     "collapsed": true,
     "input": [
      "s1 = 'Pierre'\n",
      "s2 = 'Pol'\n",
      "s3 = 'Jacques'\n",
      "s4 = 'Jules'"
     ],
     "language": "python",
     "metadata": {},
     "outputs": []
    },
    {
     "cell_type": "code",
     "collapsed": false,
     "input": [
      "group = [s1,s2,s3,s4]\n",
      "type(group)"
     ],
     "language": "python",
     "metadata": {},
     "outputs": []
    },
    {
     "cell_type": "code",
     "collapsed": true,
     "input": [
      "group.append(s3)"
     ],
     "language": "python",
     "metadata": {},
     "outputs": []
    },
    {
     "cell_type": "code",
     "collapsed": false,
     "input": [
      "print len(group)"
     ],
     "language": "python",
     "metadata": {},
     "outputs": []
    },
    {
     "cell_type": "code",
     "collapsed": false,
     "input": [
      "print group"
     ],
     "language": "python",
     "metadata": {},
     "outputs": []
    },
    {
     "cell_type": "markdown",
     "metadata": {},
     "source": [
      "list is **mutable**"
     ]
    },
    {
     "cell_type": "code",
     "collapsed": false,
     "input": [
      "group = ['Pierre', 'Pol', 'Jacques', 'Jules', 'Jacques']\n",
      "group[0] = 'TROLL'"
     ],
     "language": "python",
     "metadata": {},
     "outputs": []
    },
    {
     "cell_type": "code",
     "collapsed": false,
     "input": [
      "print group"
     ],
     "language": "python",
     "metadata": {},
     "outputs": []
    },
    {
     "cell_type": "markdown",
     "metadata": {},
     "source": [
      "removing an element from a list\n",
      "\n",
      "* using **del**\n",
      "* to make a copy of a list use [**list**](http://docs.python.org/2/library/functions.html#list)"
     ]
    },
    {
     "cell_type": "code",
     "collapsed": false,
     "input": [
      "group = ['Pierre', 'Pol', 'Jacques', 'Jules', 'Jacques']\n",
      "g = group\n",
      "g_copy = list(group)\n",
      "\n",
      "del g[0]\n",
      "\n",
      "print g\n",
      "print group\n",
      "print g_copy\n"
     ],
     "language": "python",
     "metadata": {},
     "outputs": []
    },
    {
     "cell_type": "code",
     "collapsed": false,
     "input": [
      "disp_code(_i)"
     ],
     "language": "python",
     "metadata": {},
     "outputs": []
    },
    {
     "cell_type": "markdown",
     "metadata": {},
     "source": [
      "adding/removing an element from a list\n",
      "\n",
      "* using list method **pop** and **insert** \n",
      "* see [Mutable sequence types](http://docs.python.org/2/library/stdtypes.html#mutable-sequence-types)"
     ]
    },
    {
     "cell_type": "code",
     "collapsed": false,
     "input": [
      "g = ['Pierre', 'Pol', 'Jacques', 'Jules', 'Jacques']\n",
      "g.insert(1,'second place')\n",
      "print g"
     ],
     "language": "python",
     "metadata": {},
     "outputs": []
    },
    {
     "cell_type": "code",
     "collapsed": false,
     "input": [
      "last = g.pop() #default pop the last element of the list\n",
      "print last"
     ],
     "language": "python",
     "metadata": {},
     "outputs": []
    },
    {
     "cell_type": "code",
     "collapsed": false,
     "input": [
      "first = g.pop(0)\n",
      "print first"
     ],
     "language": "python",
     "metadata": {},
     "outputs": []
    },
    {
     "cell_type": "code",
     "collapsed": false,
     "input": [
      "print g"
     ],
     "language": "python",
     "metadata": {},
     "outputs": []
    },
    {
     "cell_type": "markdown",
     "metadata": {},
     "source": [
      "to check if an element is in a list\n",
      "\n",
      "* use keyword **in**"
     ]
    },
    {
     "cell_type": "code",
     "collapsed": false,
     "input": [
      "s1 = 'Pierre'\n",
      "s2 = 'Barbara'\n",
      "\n",
      "group = ['Pierre', 'Pol', 'Jacques', 'Jules', 'Jacques']\n",
      "\n",
      "print s1 in group\n",
      "print s2 in group"
     ],
     "language": "python",
     "metadata": {},
     "outputs": []
    },
    {
     "cell_type": "markdown",
     "metadata": {},
     "source": [
      "a simple way to create list of integers : [**range()**](http://docs.python.org/2/library/functions.html#range)"
     ]
    },
    {
     "cell_type": "code",
     "collapsed": false,
     "input": [
      "print range(10)\n",
      "print range(1,10)\n",
      "print range(1,10,2)\n",
      "print range(10,1)\n",
      "print range(10,1,-1)"
     ],
     "language": "python",
     "metadata": {},
     "outputs": []
    },
    {
     "cell_type": "markdown",
     "metadata": {},
     "source": [
      "***\n",
      "\n",
      "### Question:\n",
      "\n",
      "What list corresponds to:\n",
      "    \n",
      "    range(-10,12,3)\n",
      "\n",
      "***\n",
      "\n",
      "A. \n",
      "\n",
      "    [-10, -7, -4, -1, 2, 5, 8, 11]\n",
      "\n",
      "B. \n",
      "\n",
      "    [-9, -6, -3, 0, 3, 6, 9, 12]\n",
      "\n",
      "C. \n",
      "\n",
      "    [-7, -4, , -1, 2, 5, 8, 11]\n",
      "\n",
      "***"
     ]
    },
    {
     "cell_type": "code",
     "collapsed": false,
     "input": [
      "ask('a,b,c',sec=def_time)"
     ],
     "language": "python",
     "metadata": {},
     "outputs": []
    },
    {
     "cell_type": "markdown",
     "metadata": {},
     "source": [
      "list sorting\n",
      "\n",
      "* see **sort** and **reverse** in [Mutable sequence types](http://docs.python.org/2/library/stdtypes.html#mutable-sequence-types)\n",
      "* these operations are done **in place**\n",
      "* built in function [**reversed()**](http://docs.python.org/2/library/functions.html#reversed) returns a reversed [iterator](http://docs.python.org/2/library/stdtypes.html#typeiter)\n"
     ]
    },
    {
     "cell_type": "code",
     "collapsed": false,
     "input": [
      "r = range(10)\n",
      "r.reverse()\n",
      "print r\n",
      "r.sort()\n",
      "print r\n",
      "\n",
      "it = reversed(r)\n",
      "print r\n",
      "s = list(it)\n",
      "print s\n"
     ],
     "language": "python",
     "metadata": {},
     "outputs": []
    },
    {
     "cell_type": "code",
     "collapsed": false,
     "input": [
      "disp_code(_i)"
     ],
     "language": "python",
     "metadata": {},
     "outputs": []
    },
    {
     "cell_type": "markdown",
     "metadata": {},
     "source": [
      "list sorting\n",
      "\n",
      "* custom comparison function"
     ]
    },
    {
     "cell_type": "code",
     "collapsed": false,
     "input": [
      "s = [[52365,'Pol'],[552,'Kevin'],[8465,'Barbara']]\n",
      "s.sort()\n",
      "print s"
     ],
     "language": "python",
     "metadata": {},
     "outputs": []
    },
    {
     "cell_type": "code",
     "collapsed": false,
     "input": [
      "def comp(a,b):\n",
      "    \"\"\"sort on the second element of a sublist\"\"\"\n",
      "    return cmp(a[1],b[1])"
     ],
     "language": "python",
     "metadata": {},
     "outputs": []
    },
    {
     "cell_type": "code",
     "collapsed": false,
     "input": [
      "s.sort(cmp=comp)\n",
      "print s"
     ],
     "language": "python",
     "metadata": {},
     "outputs": []
    },
    {
     "cell_type": "markdown",
     "metadata": {},
     "source": [
      "compact form using **lambda** notation"
     ]
    },
    {
     "cell_type": "code",
     "collapsed": false,
     "input": [
      "s = [[52365,'Pol'],[552,'Kevin'],[8465,'Barbara']]\n",
      "s.sort(lambda x,y:cmp(x[1],y[1]))\n",
      "print s"
     ],
     "language": "python",
     "metadata": {},
     "outputs": []
    },
    {
     "cell_type": "markdown",
     "metadata": {},
     "source": [
      "***\n",
      "\n",
      "### Question:\n",
      "\n",
      "What does the following code:\n",
      "    \n",
      "    s = ['Pol','Kevin','barbara']\n",
      "    s.sort()\n",
      "    print s\n",
      "\n",
      "***\n",
      "\n",
      "* A. ['Kevin', 'Pol', 'barbara']\n",
      "\n",
      "* B. ['barbara' , 'Kevin', 'Pol']\n",
      "\n",
      "* C. ['Pol','Kevin','barbara']\n",
      "\n",
      "***"
     ]
    },
    {
     "cell_type": "code",
     "collapsed": false,
     "input": [
      "ask('a,b,c',sec=def_time)"
     ],
     "language": "python",
     "metadata": {},
     "outputs": []
    },
    {
     "cell_type": "markdown",
     "metadata": {},
     "source": [
      "### Question:\n",
      "\n",
      "***\n",
      "\n",
      "What code do we need to sort s in the **reverse case insensitive** alphabetical order \n",
      "i.e. ['barbara', 'Kevin', 'Pol']):\n",
      "    \n",
      "    s = ['Pol','Kevin','barbara']    \n",
      "\n",
      "***\n",
      "\n",
      "A.\n",
      "\n",
      "    s.sort(cmp=lambda x,y:cmp(y.lower(),x.lower()))\n",
      "\n",
      "B. \n",
      "\n",
      "    s.sort(cmp=lambda x,y:cmp(x.lower(),y.lower()))\n",
      "\n",
      "\n",
      "C. \n",
      "\n",
      "    s.sort(cmp=lambda x,y:x.lower()<y.lower())\n",
      "\n",
      "\n",
      "***"
     ]
    },
    {
     "cell_type": "code",
     "collapsed": false,
     "input": [
      "ask('a,b,c',sec=def_time)"
     ],
     "language": "python",
     "metadata": {},
     "outputs": []
    },
    {
     "cell_type": "markdown",
     "metadata": {},
     "source": [
      "List comprehension\n",
      "\n",
      "* see [Generator expressions and list comprehensions](http://docs.python.org/2/howto/functional.html?highlight=comprehension#generator-expressions-and-list-comprehensions)"
     ]
    },
    {
     "cell_type": "code",
     "collapsed": false,
     "input": [
      "['image%04d.jpg'%i for i in range(5)]"
     ],
     "language": "python",
     "metadata": {},
     "outputs": []
    },
    {
     "cell_type": "code",
     "collapsed": false,
     "input": [
      "e = [' %s'%s for s in 'Python']\n",
      "print e"
     ],
     "language": "python",
     "metadata": {},
     "outputs": []
    },
    {
     "cell_type": "code",
     "collapsed": false,
     "input": [
      "e = [' %s'%s for s in 'Python' if s>'h']\n",
      "print e"
     ],
     "language": "python",
     "metadata": {},
     "outputs": []
    },
    {
     "cell_type": "code",
     "collapsed": false,
     "input": [
      "e = ['%s'%s for s in 'PythoN' if s.upper() == s]\n",
      "print e"
     ],
     "language": "python",
     "metadata": {},
     "outputs": []
    },
    {
     "cell_type": "markdown",
     "metadata": {},
     "source": [
      "***\n",
      "\n",
      "### Question:\n",
      "\n",
      "What code gives the following result:\n",
      "    \n",
      "    ['len of list [0, 1, 2, 3, 4, 5] is 6',\n",
      "    'len of list [0, 1, 2, 3, 4, 5, 6] is 7',\n",
      "    'len of list [0, 1, 2, 3, 4, 5, 6, 7] is 8',\n",
      "    'len of list [0, 1, 2, 3, 4, 5, 6, 7, 8] is 9']\n",
      "\n",
      "***\n",
      "\n",
      "A.\n",
      "\n",
      "    ['%s is %d'%('len of list %s'%e,len(e)) for e in [range(r) for r in range(5,9)]]\n",
      "\n",
      "B.\n",
      "    \n",
      "    ['len of list %s is %d'%(e,len(e)) for e in [range(r) for r in range(5,10)]]\n",
      "\n",
      "\n",
      "C.\n",
      "\n",
      "    ['len of list %s is %d'%(e,len(e)) for e in [range(r) for r in range(10)] if len(e)>5]\n",
      "***"
     ]
    },
    {
     "cell_type": "code",
     "collapsed": false,
     "input": [
      "ask('a,b,c',sec=def_time)"
     ],
     "language": "python",
     "metadata": {},
     "outputs": []
    },
    {
     "cell_type": "markdown",
     "metadata": {},
     "source": [
      "## Python tuples"
     ]
    },
    {
     "cell_type": "markdown",
     "metadata": {},
     "source": [
      "[tuples](http://docs.python.org/2/library/functions.html#tuple) are immutable list"
     ]
    },
    {
     "cell_type": "code",
     "collapsed": false,
     "input": [
      "t1 = (1,2,3)\n",
      "t2 = ('a',5,4)\n",
      "\n",
      "print t2[0]"
     ],
     "language": "python",
     "metadata": {},
     "outputs": []
    },
    {
     "cell_type": "code",
     "collapsed": false,
     "input": [
      "t1[1] = 5"
     ],
     "language": "python",
     "metadata": {},
     "outputs": []
    },
    {
     "cell_type": "code",
     "collapsed": false,
     "input": [
      "t1.append(5)"
     ],
     "language": "python",
     "metadata": {},
     "outputs": []
    },
    {
     "cell_type": "markdown",
     "metadata": {},
     "source": [
      "to combine several lists into one list of tuples use\n",
      "[**zip**](http://docs.python.org/2/library/functions.html?highlight=zip#zip)"
     ]
    },
    {
     "cell_type": "code",
     "collapsed": false,
     "input": [
      "x = [1, 2, 3]\n",
      "y = [4, 5, 6]\n",
      "zipped = zip(x, y)\n",
      "print zipped\n",
      "x2, y2 = zip(*zipped)\n",
      "print x2\n",
      "print y2"
     ],
     "language": "python",
     "metadata": {},
     "outputs": []
    }
   ],
   "metadata": {}
  }
 ]
}