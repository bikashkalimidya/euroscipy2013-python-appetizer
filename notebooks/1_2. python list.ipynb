{
 "metadata": {
  "name": "1_2. python list"
 },
 "nbformat": 3,
 "nbformat_minor": 0,
 "worksheets": [
  {
   "cells": [
    {
     "cell_type": "code",
     "collapsed": false,
     "input": [
      "from default import *"
     ],
     "language": "python",
     "metadata": {},
     "outputs": [
      {
       "output_type": "stream",
       "stream": "stdout",
       "text": [
        "you are in -presenter- mode\n"
       ]
      }
     ],
     "prompt_number": 1
    },
    {
     "cell_type": "markdown",
     "metadata": {},
     "source": [
      "# Python list\n",
      "\n",
      "* see [Sequence types](http://docs.python.org/2/library/stdtypes.html#sequence-types-str-unicode-list-tuple-bytearray-buffer-xrange)"
     ]
    },
    {
     "cell_type": "code",
     "collapsed": true,
     "input": [
      "s1 = 'Pierre'\n",
      "s2 = 'Pol'\n",
      "s3 = 'Jacques'\n",
      "s4 = 'Jules'"
     ],
     "language": "python",
     "metadata": {},
     "outputs": [],
     "prompt_number": 74
    },
    {
     "cell_type": "code",
     "collapsed": false,
     "input": [
      "group = [s1,s2,s3,s4]\n",
      "type(group)"
     ],
     "language": "python",
     "metadata": {},
     "outputs": [
      {
       "output_type": "pyout",
       "prompt_number": 75,
       "text": [
        "list"
       ]
      }
     ],
     "prompt_number": 75
    },
    {
     "cell_type": "code",
     "collapsed": true,
     "input": [
      "group.append(s3)"
     ],
     "language": "python",
     "metadata": {},
     "outputs": [],
     "prompt_number": 76
    },
    {
     "cell_type": "code",
     "collapsed": false,
     "input": [
      "print len(group)"
     ],
     "language": "python",
     "metadata": {},
     "outputs": [
      {
       "output_type": "stream",
       "stream": "stdout",
       "text": [
        "5\n"
       ]
      }
     ],
     "prompt_number": 77
    },
    {
     "cell_type": "code",
     "collapsed": false,
     "input": [
      "print group"
     ],
     "language": "python",
     "metadata": {},
     "outputs": [
      {
       "output_type": "stream",
       "stream": "stdout",
       "text": [
        "['Pierre', 'Pol', 'Jacques', 'Jules', 'Jacques']\n"
       ]
      }
     ],
     "prompt_number": 78
    },
    {
     "cell_type": "markdown",
     "metadata": {},
     "source": [
      "list is **mutable**"
     ]
    },
    {
     "cell_type": "code",
     "collapsed": false,
     "input": [
      "group[0] = 'TROLL'"
     ],
     "language": "python",
     "metadata": {},
     "outputs": [],
     "prompt_number": 79
    },
    {
     "cell_type": "code",
     "collapsed": false,
     "input": [
      "print group"
     ],
     "language": "python",
     "metadata": {},
     "outputs": [
      {
       "output_type": "stream",
       "stream": "stdout",
       "text": [
        "['TROLL', 'Pol', 'Jacques', 'Jules', 'Jacques']\n"
       ]
      }
     ],
     "prompt_number": 80
    },
    {
     "cell_type": "markdown",
     "metadata": {},
     "source": [
      "removing an element from a list\n",
      "\n",
      "* using **del**\n",
      "* to make a copy of a list use [**list**](http://docs.python.org/2/library/functions.html#list)"
     ]
    },
    {
     "cell_type": "code",
     "collapsed": false,
     "input": [
      "g = group\n",
      "g_copy = list(group)\n",
      "\n",
      "del g[0]\n"
     ],
     "language": "python",
     "metadata": {},
     "outputs": [],
     "prompt_number": 81
    },
    {
     "cell_type": "code",
     "collapsed": false,
     "input": [
      "print g\n",
      "print group\n",
      "print g_copy"
     ],
     "language": "python",
     "metadata": {},
     "outputs": [
      {
       "output_type": "stream",
       "stream": "stdout",
       "text": [
        "['Pol', 'Jacques', 'Jules', 'Jacques']\n",
        "['Pol', 'Jacques', 'Jules', 'Jacques']\n",
        "['TROLL', 'Pol', 'Jacques', 'Jules', 'Jacques']\n"
       ]
      }
     ],
     "prompt_number": 82
    },
    {
     "cell_type": "markdown",
     "metadata": {},
     "source": [
      "adding/removing an element from a list\n",
      "\n",
      "* using list method **pop** and **insert** \n",
      "* see [Mutable sequence types](http://docs.python.org/2/library/stdtypes.html#mutable-sequence-types)"
     ]
    },
    {
     "cell_type": "code",
     "collapsed": false,
     "input": [
      "print g\n",
      "g.insert(1,'second place')\n",
      "print g"
     ],
     "language": "python",
     "metadata": {},
     "outputs": [
      {
       "output_type": "stream",
       "stream": "stdout",
       "text": [
        "['Pol', 'Jacques', 'Jules', 'Jacques']\n",
        "['Pol', 'second place', 'Jacques', 'Jules', 'Jacques']\n"
       ]
      }
     ],
     "prompt_number": 83
    },
    {
     "cell_type": "code",
     "collapsed": false,
     "input": [
      "print g.pop() #default pop the last element of the list\n",
      "print g"
     ],
     "language": "python",
     "metadata": {},
     "outputs": [
      {
       "output_type": "stream",
       "stream": "stdout",
       "text": [
        "Pol\n",
        "['second place', 'Jacques', 'Jules', 'Jacques']\n"
       ]
      }
     ],
     "prompt_number": 84
    },
    {
     "cell_type": "markdown",
     "metadata": {},
     "source": [
      "to check if an element is in a list\n",
      "\n",
      "* use keyword **in**"
     ]
    },
    {
     "cell_type": "code",
     "collapsed": false,
     "input": [
      "print s1 in group\n",
      "print s4 in group"
     ],
     "language": "python",
     "metadata": {},
     "outputs": [
      {
       "output_type": "stream",
       "stream": "stdout",
       "text": [
        "False\n",
        "True\n"
       ]
      }
     ],
     "prompt_number": 49
    },
    {
     "cell_type": "markdown",
     "metadata": {},
     "source": [
      "a simple way to create list of integers : **range()**"
     ]
    },
    {
     "cell_type": "code",
     "collapsed": false,
     "input": [
      "print range(10)\n",
      "print range(1,10)\n",
      "print range(1,10,2)\n",
      "print range(10,1)\n",
      "print range(10,1,-1)\n"
     ],
     "language": "python",
     "metadata": {},
     "outputs": [
      {
       "output_type": "stream",
       "stream": "stdout",
       "text": [
        "[0, 1, 2, 3, 4, 5, 6, 7, 8, 9]\n",
        "[1, 2, 3, 4, 5, 6, 7, 8, 9]\n",
        "[1, 3, 5, 7, 9]\n",
        "[]\n",
        "[10, 9, 8, 7, 6, 5, 4, 3, 2]\n"
       ]
      }
     ],
     "prompt_number": 50
    },
    {
     "cell_type": "markdown",
     "metadata": {},
     "source": [
      "list sorting\n",
      "\n",
      "* see **sort** and **reverse** in [Mutable sequence types](http://docs.python.org/2/library/stdtypes.html#mutable-sequence-types)\n"
     ]
    },
    {
     "cell_type": "code",
     "collapsed": false,
     "input": [
      "r = range(10)\n",
      "print r\n",
      "r.reverse()\n",
      "print r\n",
      "r.sort()\n",
      "print r"
     ],
     "language": "python",
     "metadata": {},
     "outputs": [
      {
       "output_type": "stream",
       "stream": "stdout",
       "text": [
        "[0, 1, 2, 3, 4, 5, 6, 7, 8, 9]\n",
        "[9, 8, 7, 6, 5, 4, 3, 2, 1, 0]\n",
        "[0, 1, 2, 3, 4, 5, 6, 7, 8, 9]\n"
       ]
      }
     ],
     "prompt_number": 86
    },
    {
     "cell_type": "markdown",
     "metadata": {},
     "source": [
      "list sorting\n",
      "\n",
      "* custom comparison function"
     ]
    },
    {
     "cell_type": "code",
     "collapsed": false,
     "input": [
      "s = [[52365,'Pol'],[552,'Kevin'],[8465,'Barbara']]\n",
      "s.sort()\n",
      "print s"
     ],
     "language": "python",
     "metadata": {},
     "outputs": [
      {
       "output_type": "stream",
       "stream": "stdout",
       "text": [
        "[[552, 'Kevin'], [8465, 'Barbara'], [52365, 'Pol']]\n"
       ]
      }
     ],
     "prompt_number": 89
    },
    {
     "cell_type": "code",
     "collapsed": false,
     "input": [
      "def comp(a,b):\n",
      "    \"\"\"sort on the second element of a sublist\"\"\"\n",
      "    return cmp(a[1],b[1])"
     ],
     "language": "python",
     "metadata": {},
     "outputs": [],
     "prompt_number": 97
    },
    {
     "cell_type": "code",
     "collapsed": false,
     "input": [
      "s.sort(cmp=comp)\n",
      "print s"
     ],
     "language": "python",
     "metadata": {},
     "outputs": [
      {
       "output_type": "stream",
       "stream": "stdout",
       "text": [
        "[[8465, 'Barbara'], [552, 'Kevin'], [52365, 'Pol']]\n"
       ]
      }
     ],
     "prompt_number": 98
    },
    {
     "cell_type": "markdown",
     "metadata": {},
     "source": [
      "compact form using **lambda** notation"
     ]
    },
    {
     "cell_type": "code",
     "collapsed": false,
     "input": [
      "s = [[52365,'Pol'],[552,'Kevin'],[8465,'Barbara']]\n",
      "s.sort(lambda x,y:cmp(x[1],y[1]))\n",
      "print s"
     ],
     "language": "python",
     "metadata": {},
     "outputs": [
      {
       "output_type": "stream",
       "stream": "stdout",
       "text": [
        "[[8465, 'Barbara'], [552, 'Kevin'], [52365, 'Pol']]\n"
       ]
      }
     ],
     "prompt_number": 100
    },
    {
     "cell_type": "markdown",
     "metadata": {},
     "source": [
      "### Question:\n",
      "\n",
      "What does the following code:\n",
      "    \n",
      "    s = ['Pol','Kevin','barbara']\n",
      "    s.sort()\n",
      "    print s\n",
      "    \n",
      "* A. ['Kevin', 'Pol', 'barbara']\n",
      "\n",
      "* B. ['barbara' , 'Kevin', 'Pol']\n",
      "\n",
      "* C. ['Pol','Kevin','barbara']"
     ]
    },
    {
     "cell_type": "code",
     "collapsed": false,
     "input": [
      "ask('a,b,c',sec=15)"
     ],
     "language": "python",
     "metadata": {},
     "outputs": []
    },
    {
     "cell_type": "code",
     "collapsed": false,
     "input": [
      "s = ['Pol','Kevin','barbara']\n",
      "s.sort(cmp=lambda x,y:cmp(x.lower(),y.lower()))\n",
      "print s\n",
      "    "
     ],
     "language": "python",
     "metadata": {},
     "outputs": [
      {
       "output_type": "stream",
       "stream": "stdout",
       "text": [
        "['barbara', 'Kevin', 'Pol']\n"
       ]
      }
     ],
     "prompt_number": 109
    },
    {
     "cell_type": "markdown",
     "metadata": {},
     "source": [
      "List comprehension"
     ]
    },
    {
     "cell_type": "code",
     "collapsed": false,
     "input": [
      "e = [' %s'%s for s in 'Olivier']\n",
      "print e"
     ],
     "language": "python",
     "metadata": {},
     "outputs": [
      {
       "output_type": "stream",
       "stream": "stdout",
       "text": [
        "[' O', ' l', ' i', ' v', ' i', ' e', ' r']\n"
       ]
      }
     ],
     "prompt_number": 51
    },
    {
     "cell_type": "code",
     "collapsed": false,
     "input": [
      "e = [' %s'%s for s in 'Olivier' if s>'i']\n",
      "print e"
     ],
     "language": "python",
     "metadata": {},
     "outputs": [
      {
       "output_type": "stream",
       "stream": "stdout",
       "text": [
        "[' l', ' v', ' r']\n"
       ]
      }
     ],
     "prompt_number": 53
    },
    {
     "cell_type": "markdown",
     "metadata": {},
     "source": [
      "## Python tuples"
     ]
    },
    {
     "cell_type": "markdown",
     "metadata": {},
     "source": [
      "tuples are immutable list"
     ]
    }
   ],
   "metadata": {}
  }
 ]
}