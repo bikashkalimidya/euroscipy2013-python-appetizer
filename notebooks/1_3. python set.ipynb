{
 "metadata": {
  "name": "1_3. python set"
 },
 "nbformat": 3,
 "nbformat_minor": 0,
 "worksheets": [
  {
   "cells": [
    {
     "cell_type": "code",
     "collapsed": false,
     "input": [
      "from default import *"
     ],
     "language": "python",
     "metadata": {},
     "outputs": []
    },
    {
     "cell_type": "markdown",
     "metadata": {},
     "source": [
      "# Python set\n",
      "\n",
      "* see python [Data model](http://docs.python.org/2/reference/datamodel.html)\n",
      "* [operations on sets](http://docs.python.org/2/library/stdtypes.html#set)"
     ]
    },
    {
     "cell_type": "code",
     "collapsed": false,
     "input": [
      "s1 = 'Pierre'\n",
      "s2 = 'Pol'\n",
      "s3 = 'Jacques'\n",
      "s4 = 'Jules'\n",
      "group = [s1,s2,s3,s1]\n",
      "team1 = set(group)\n",
      "print team1\n",
      "\n",
      "print type(team1)"
     ],
     "language": "python",
     "metadata": {},
     "outputs": []
    },
    {
     "cell_type": "markdown",
     "metadata": {},
     "source": [
      "remark:\n",
      "    \n",
      "* duplicated entries in sets are removed"
     ]
    },
    {
     "cell_type": "code",
     "collapsed": false,
     "input": [
      "print s1 in team1\n",
      "print s4 in team1"
     ],
     "language": "python",
     "metadata": {},
     "outputs": []
    },
    {
     "cell_type": "code",
     "collapsed": true,
     "input": [
      "team2 = set([s1,s4])"
     ],
     "language": "python",
     "metadata": {},
     "outputs": []
    },
    {
     "cell_type": "markdown",
     "metadata": {},
     "source": [
      "removes one from an other"
     ]
    },
    {
     "cell_type": "code",
     "collapsed": false,
     "input": [
      "team1 - team2"
     ],
     "language": "python",
     "metadata": {},
     "outputs": []
    },
    {
     "cell_type": "markdown",
     "metadata": {},
     "source": [
      "combines two sets"
     ]
    },
    {
     "cell_type": "code",
     "collapsed": false,
     "input": [
      "team1 | team2"
     ],
     "language": "python",
     "metadata": {},
     "outputs": []
    },
    {
     "cell_type": "markdown",
     "metadata": {},
     "source": [
      "find the intersection of two sets"
     ]
    },
    {
     "cell_type": "code",
     "collapsed": false,
     "input": [
      "team1 & team2"
     ],
     "language": "python",
     "metadata": {},
     "outputs": []
    },
    {
     "cell_type": "markdown",
     "metadata": {},
     "source": [
      "exclusive union of two sets (common elements are eliminated)"
     ]
    },
    {
     "cell_type": "code",
     "collapsed": false,
     "input": [
      "team1 ^ team2"
     ],
     "language": "python",
     "metadata": {},
     "outputs": []
    },
    {
     "cell_type": "markdown",
     "metadata": {},
     "source": [
      "sets are iterable, but order is **not** garanteed"
     ]
    },
    {
     "cell_type": "code",
     "collapsed": false,
     "input": [
      "for s in team1:\n",
      "    print s"
     ],
     "language": "python",
     "metadata": {},
     "outputs": []
    },
    {
     "cell_type": "code",
     "collapsed": false,
     "input": [],
     "language": "python",
     "metadata": {},
     "outputs": []
    }
   ],
   "metadata": {}
  }
 ]
}