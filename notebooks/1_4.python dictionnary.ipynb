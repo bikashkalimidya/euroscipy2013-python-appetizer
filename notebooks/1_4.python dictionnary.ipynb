{
 "metadata": {
  "name": "1_4.python dictionnary"
 },
 "nbformat": 3,
 "nbformat_minor": 0,
 "worksheets": [
  {
   "cells": [
    {
     "cell_type": "code",
     "collapsed": false,
     "input": [
      "from default import *\n",
      "def_time = 120"
     ],
     "language": "python",
     "metadata": {},
     "outputs": []
    },
    {
     "cell_type": "markdown",
     "metadata": {},
     "source": [
      "# Python dictionnary\n",
      "\n",
      "see [Built-in Types](http://docs.python.org/2/library/stdtypes.html#dict)"
     ]
    },
    {
     "cell_type": "code",
     "collapsed": false,
     "input": [
      "d = {}\n",
      "print type(d)"
     ],
     "language": "python",
     "metadata": {},
     "outputs": []
    },
    {
     "cell_type": "code",
     "collapsed": false,
     "input": [
      "d['name'] = 'Pierre'\n",
      "d['age'] = 25\n",
      "\n",
      "print d\n",
      "print d['age'],d['name']"
     ],
     "language": "python",
     "metadata": {},
     "outputs": []
    },
    {
     "cell_type": "code",
     "collapsed": false,
     "input": [
      "for key in d:\n",
      "    print key, d[key]\n",
      "    "
     ],
     "language": "python",
     "metadata": {},
     "outputs": []
    },
    {
     "cell_type": "markdown",
     "metadata": {},
     "source": [
      "remarks:\n",
      "\n",
      "* dictionaries are iterable\n",
      "\n",
      "* order is **not** garanteed"
     ]
    },
    {
     "cell_type": "markdown",
     "metadata": {},
     "source": [
      "Dictionnary creation\n",
      "    \n",
      "* from scratch\n",
      "* from (key,value) pairs\n",
      "* from an other dictionnary"
     ]
    },
    {
     "cell_type": "code",
     "collapsed": false,
     "input": [
      "d1 = dict()\n",
      "d1['k'] = 456\n",
      "d2 = {'a':5,4:4}\n",
      "d3 = dict(d2)\n",
      "d4 = dict.fromkeys(['a',5,'z'],1)\n",
      "d5 = dict([('q',4),('r',6)])\n",
      "\n",
      "d1.update(d2)\n",
      "\n",
      "d2['a'] = 'azerty'"
     ],
     "language": "python",
     "metadata": {},
     "outputs": []
    },
    {
     "cell_type": "code",
     "collapsed": false,
     "input": [
      "disp_code(_i)"
     ],
     "language": "python",
     "metadata": {},
     "outputs": []
    },
    {
     "cell_type": "code",
     "collapsed": false,
     "input": [
      "t = [1,2,3]\n",
      "d1 = dict()\n",
      "d1['k'] = t\n",
      "d2 = {'a':t}\n",
      "\n",
      "t[1] = 'attention'\n",
      "\n",
      "print d1\n",
      "print d2"
     ],
     "language": "python",
     "metadata": {},
     "outputs": []
    },
    {
     "cell_type": "code",
     "collapsed": false,
     "input": [
      "disp_code(_i)"
     ],
     "language": "python",
     "metadata": {},
     "outputs": []
    },
    {
     "cell_type": "markdown",
     "metadata": {},
     "source": [
      "### Question:\n",
      "\n",
      "***\n",
      "\n",
      "how to obtain the following dict ?:\n",
      "\n",
      "    {'k00': 0, 'k01': 1, 'k02': 2, 'k03': 3, 'k04': 4}\n",
      "    \n",
      "\n",
      "***\n",
      "\n",
      "A.\n",
      "\n",
      "    dict(zip(['k%02d'%i for i in range(5)],range(5)))\n",
      "\n",
      "B. \n",
      "\n",
      "    dict(zip(['k%02d'%i for i in range(5)],range(10)))\n",
      "\n",
      "\n",
      "C. \n",
      "\n",
      "    dict(zip(['k%02d'%i for i in range(10)],range(5)))\n",
      "\n",
      "\n",
      "***"
     ]
    },
    {
     "cell_type": "code",
     "collapsed": false,
     "input": [
      "ask('a,b,c',sec=def_time)"
     ],
     "language": "python",
     "metadata": {},
     "outputs": []
    },
    {
     "cell_type": "markdown",
     "metadata": {},
     "source": [
      "operations on dictionaries"
     ]
    },
    {
     "cell_type": "code",
     "collapsed": false,
     "input": [
      "d = {'a':5,'b':4}\n",
      "d.items()"
     ],
     "language": "python",
     "metadata": {},
     "outputs": []
    },
    {
     "cell_type": "code",
     "collapsed": false,
     "input": [
      "d = {'a':5,'b':4}\n",
      "d.keys()"
     ],
     "language": "python",
     "metadata": {},
     "outputs": []
    },
    {
     "cell_type": "markdown",
     "metadata": {},
     "source": [
      "iteration on a dictionnary"
     ]
    },
    {
     "cell_type": "code",
     "collapsed": false,
     "input": [
      "d = {'a':5,'b':4}\n",
      "\n",
      "for k in d:\n",
      "    print k"
     ],
     "language": "python",
     "metadata": {},
     "outputs": []
    },
    {
     "cell_type": "code",
     "collapsed": false,
     "input": [
      "d = {'a':5,'b':4}\n",
      "\n",
      "for k,v in d.iteritems():\n",
      "    print k,v"
     ],
     "language": "python",
     "metadata": {},
     "outputs": []
    },
    {
     "cell_type": "markdown",
     "metadata": {},
     "source": [
      "getting value from a dictionnary"
     ]
    },
    {
     "cell_type": "code",
     "collapsed": false,
     "input": [
      "d = {'a':5,'b':4}\n",
      "d['a']"
     ],
     "language": "python",
     "metadata": {},
     "outputs": []
    },
    {
     "cell_type": "code",
     "collapsed": false,
     "input": [
      "d = {'a':5,'b':4}\n",
      "d['c']"
     ],
     "language": "python",
     "metadata": {},
     "outputs": []
    },
    {
     "cell_type": "code",
     "collapsed": false,
     "input": [
      "d = {'a':5,'b':4}\n",
      "print d.get('c')\n",
      "print d.get('c','key not found here !')"
     ],
     "language": "python",
     "metadata": {},
     "outputs": []
    },
    {
     "cell_type": "code",
     "collapsed": false,
     "input": [
      "d = {'a':5,'b':4}\n",
      "\n",
      "d.has_key('c')"
     ],
     "language": "python",
     "metadata": {},
     "outputs": []
    },
    {
     "cell_type": "code",
     "collapsed": false,
     "input": [
      "d = {'a':5,'b':4}\n",
      "\n",
      "'c' in d"
     ],
     "language": "python",
     "metadata": {},
     "outputs": []
    },
    {
     "cell_type": "code",
     "collapsed": false,
     "input": [
      "d = {'a':5,'b':4}\n",
      "p = d.pop('a')\n",
      "\n",
      "print p\n",
      "print d"
     ],
     "language": "python",
     "metadata": {},
     "outputs": []
    },
    {
     "cell_type": "code",
     "collapsed": false,
     "input": [],
     "language": "python",
     "metadata": {},
     "outputs": []
    }
   ],
   "metadata": {}
  }
 ]
}