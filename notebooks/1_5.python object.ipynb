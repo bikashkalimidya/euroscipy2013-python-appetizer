{
 "metadata": {
  "name": "1_5.python object"
 },
 "nbformat": 3,
 "nbformat_minor": 0,
 "worksheets": [
  {
   "cells": [
    {
     "cell_type": "code",
     "collapsed": false,
     "input": [
      "from default import *"
     ],
     "language": "python",
     "metadata": {},
     "outputs": [
      {
       "output_type": "stream",
       "stream": "stdout",
       "text": [
        "you are in -presenter- mode\n"
       ]
      }
     ],
     "prompt_number": 1
    },
    {
     "cell_type": "markdown",
     "metadata": {},
     "source": [
      "## python Objects\n",
      "\n",
      "* everything in python is object, **id()** returns the \u201cidentity\u201d of an object\n",
      "* data are garbage collected, **del** forces the destruction of an object\n",
      "* **hash()** returns the hash value of the object (integer) "
     ]
    },
    {
     "cell_type": "code",
     "collapsed": false,
     "input": [
      "a = 5\n",
      "print id(a)\n",
      "\n",
      "b = 6\n",
      "print id(b)\n",
      "\n",
      "c = a\n",
      "print id(c)\n",
      "\n",
      "print 'a',a\n",
      "del a\n",
      "print 'b',b\n",
      "print 'c',c\n",
      "print 'a',a\n"
     ],
     "language": "python",
     "metadata": {},
     "outputs": [
      {
       "ename": "NameError",
       "evalue": "name 'a' is not defined",
       "output_type": "pyerr",
       "traceback": [
        "\u001b[1;31m---------------------------------------------------------------------------\u001b[0m\n\u001b[1;31mNameError\u001b[0m                                 Traceback (most recent call last)",
        "\u001b[1;32m<ipython-input-13-625850ed9ea3>\u001b[0m in \u001b[0;36m<module>\u001b[1;34m()\u001b[0m\n\u001b[0;32m     12\u001b[0m \u001b[1;32mprint\u001b[0m \u001b[1;34m'b'\u001b[0m\u001b[1;33m,\u001b[0m\u001b[0mb\u001b[0m\u001b[1;33m\u001b[0m\u001b[0m\n\u001b[0;32m     13\u001b[0m \u001b[1;32mprint\u001b[0m \u001b[1;34m'c'\u001b[0m\u001b[1;33m,\u001b[0m\u001b[0mc\u001b[0m\u001b[1;33m\u001b[0m\u001b[0m\n\u001b[1;32m---> 14\u001b[1;33m \u001b[1;32mprint\u001b[0m \u001b[1;34m'a'\u001b[0m\u001b[1;33m,\u001b[0m\u001b[0ma\u001b[0m\u001b[1;33m\u001b[0m\u001b[0m\n\u001b[0m",
        "\u001b[1;31mNameError\u001b[0m: name 'a' is not defined"
       ]
      },
      {
       "output_type": "stream",
       "stream": "stdout",
       "text": [
        "26803272\n",
        "26803248\n",
        "26803272\n",
        "a 5\n",
        "b 6\n",
        "c 5\n",
        "a"
       ]
      }
     ],
     "prompt_number": 13
    },
    {
     "cell_type": "code",
     "collapsed": false,
     "input": [
      "disp_code(_i,h=500)"
     ],
     "language": "python",
     "metadata": {},
     "outputs": [
      {
       "html": [
        "<iframe width=\"1024\" height=\"500\" frameborder=\"0\"src=\"http://pythontutor.com/iframe-embed.html#code=a+%3D+5%0Aprint+id%28a%29%0A%0Ab+%3D+6%0Aprint+id%28b%29%0A%0Ac+%3D+a%0Aprint+id%28c%29%0A%0Aprint+%27a%27%2Ca%0Adel+a%0Aprint+%27b%27%2Cb%0Aprint+%27c%27%2Cc%0Aprint+%27a%27%2Ca&cumulative=False&heapPrimitives=false&drawParentPointers=False&textReferences=False&showOnlyOutputs=False&py=2&curInstr=0\"> </iframe>"
       ],
       "output_type": "pyout",
       "prompt_number": 14,
       "text": [
        "<IPython.core.display.HTML at 0x39791d0>"
       ]
      },
      {
       "output_type": "stream",
       "stream": "stdout",
       "text": [
        "\n"
       ]
      }
     ],
     "prompt_number": 14
    },
    {
     "cell_type": "code",
     "collapsed": false,
     "input": [
      "def f():\n",
      "    pass\n",
      "a = 5\n",
      "print hash(a)\n",
      "print hash('azerty')\n",
      "print hash(f)"
     ],
     "language": "python",
     "metadata": {},
     "outputs": []
    },
    {
     "cell_type": "markdown",
     "metadata": {},
     "source": [
      "* Programmers can define their **own types** using classes, Python is **object-oriented**"
     ]
    },
    {
     "cell_type": "code",
     "collapsed": true,
     "input": [
      "class Student(object):\n",
      "    def __init__(self,name,grade):\n",
      "        self.name = name\n",
      "        self.grade = grade\n",
      "    def is_successful(self):\n",
      "        return self.grade>10   \n",
      "\n",
      "s1 = Student('Jacky',17)\n",
      "\n",
      "print s1\n",
      "print type(s1)\n",
      "n = s1.name\n",
      "g = s1.grade\n",
      "result = s1.is_successful()\n",
      "\n",
      "print n,g,result"
     ],
     "language": "python",
     "metadata": {},
     "outputs": [
      {
       "output_type": "stream",
       "stream": "stdout",
       "text": [
        "<__main__.Student object at 0x397f510>\n",
        "<class '__main__.Student'>\n",
        "Jacky 17 True\n"
       ]
      }
     ],
     "prompt_number": 7
    },
    {
     "cell_type": "code",
     "collapsed": false,
     "input": [
      "disp_code(_i,h=500)"
     ],
     "language": "python",
     "metadata": {},
     "outputs": [
      {
       "html": [
        "<iframe width=\"1024\" height=\"500\" frameborder=\"0\"src=\"http://pythontutor.com/iframe-embed.html#code=class+Student%28object%29%3A%0A++++def+__init__%28self%2Cname%2Cgrade%29%3A%0A++++++++self.name+%3D+name%0A++++++++self.grade+%3D+grade%0A++++def+is_successful%28self%29%3A%0A++++++++return+self.grade%3E10+++%0A%0As1+%3D+Student%28%27Jacky%27%2C17%29%0A%0Aprint+s1%0Aprint+type%28s1%29%0An+%3D+s1.name%0Ag+%3D+s1.grade%0Aresult+%3D+s1.is_successful%28%29%0A%0Aprint+n%2Cg%2Cresult&cumulative=False&heapPrimitives=false&drawParentPointers=False&textReferences=False&showOnlyOutputs=False&py=2&curInstr=0\"> </iframe>"
       ],
       "output_type": "pyout",
       "prompt_number": 8,
       "text": [
        "<IPython.core.display.HTML at 0x38db490>"
       ]
      }
     ],
     "prompt_number": 8
    },
    {
     "cell_type": "markdown",
     "metadata": {},
     "source": [
      "##remark\n",
      "\n",
      "* instance variable are not defined as in C++\n",
      "\n",
      "\n"
     ]
    },
    {
     "cell_type": "code",
     "collapsed": false,
     "input": [],
     "language": "python",
     "metadata": {},
     "outputs": []
    }
   ],
   "metadata": {}
  }
 ]
}