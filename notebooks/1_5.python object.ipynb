{
 "metadata": {
  "name": "1_5.python object"
 },
 "nbformat": 3,
 "nbformat_minor": 0,
 "worksheets": [
  {
   "cells": [
    {
     "cell_type": "code",
     "collapsed": false,
     "input": [
      "from default import *\n",
      "def_time = 120"
     ],
     "language": "python",
     "metadata": {},
     "outputs": []
    },
    {
     "cell_type": "markdown",
     "metadata": {},
     "source": [
      "## python Objects\n",
      "\n",
      "* see [Objects, values and types](http://docs.python.org/2/reference/datamodel.html#objects-values-and-types)\n",
      "* everything in python is object, **id()** returns the \u201cidentity\u201d of an object\n",
      "* data are garbage collected, **del** forces the destruction of an object\n",
      "* **hash()** returns the hash value of the object (integer) "
     ]
    },
    {
     "cell_type": "code",
     "collapsed": false,
     "input": [
      "a = 5\n",
      "print id(a)\n",
      "\n",
      "b = 6\n",
      "print id(b)\n",
      "\n",
      "c = a\n",
      "print id(c)\n",
      "\n",
      "print 'a',a\n",
      "del a\n",
      "print 'b',b\n",
      "print 'c',c\n",
      "print 'a',a\n"
     ],
     "language": "python",
     "metadata": {},
     "outputs": []
    },
    {
     "cell_type": "code",
     "collapsed": false,
     "input": [
      "disp_code(_i,h=500)"
     ],
     "language": "python",
     "metadata": {},
     "outputs": []
    },
    {
     "cell_type": "code",
     "collapsed": false,
     "input": [
      "def f():\n",
      "    pass\n",
      "a = 5\n",
      "print hash(a)\n",
      "print hash('azerty')\n",
      "print hash(f)"
     ],
     "language": "python",
     "metadata": {},
     "outputs": []
    },
    {
     "cell_type": "markdown",
     "metadata": {},
     "source": [
      "* Programmers can define their **own types** using classes, Python is **object-oriented**"
     ]
    },
    {
     "cell_type": "code",
     "collapsed": true,
     "input": [
      "class Student(object):\n",
      "    def __init__(self,name,grade):\n",
      "        self.name = name\n",
      "        self.grade = grade\n",
      "    def is_successful(self):\n",
      "        return self.grade>10   \n",
      "\n",
      "s1 = Student('Jacky',17)\n",
      "\n",
      "print s1\n",
      "print type(s1)\n",
      "n = s1.name\n",
      "g = s1.grade\n",
      "result = s1.is_successful()\n",
      "\n",
      "print n,g,result"
     ],
     "language": "python",
     "metadata": {},
     "outputs": []
    },
    {
     "cell_type": "code",
     "collapsed": false,
     "input": [
      "disp_code(_i,h=500)"
     ],
     "language": "python",
     "metadata": {},
     "outputs": []
    },
    {
     "cell_type": "markdown",
     "metadata": {},
     "source": [
      "##remark\n",
      "\n",
      "* instance variable are not defined as in C++\n",
      "* classes can inherit from other classes\n",
      "* method can be overridden\n",
      "\n",
      "\n"
     ]
    },
    {
     "cell_type": "code",
     "collapsed": false,
     "input": [
      "class MyList(list):\n",
      "    def __repr__(self):\n",
      "        \"\"\"override the list.__repr__ function with a special behaviour\n",
      "        \"\"\"\n",
      "        return 'my list is %s'%list.__repr__(self)\n",
      "\n",
      "original_list = [4,5,6]\n",
      "ml = MyList([4,5,6])\n",
      "print type(ml)\n",
      "print type(original_list)\n",
      "print original_list\n",
      "print ml\n",
      "        \n",
      "        "
     ],
     "language": "python",
     "metadata": {},
     "outputs": []
    },
    {
     "cell_type": "code",
     "collapsed": false,
     "input": [],
     "language": "python",
     "metadata": {},
     "outputs": []
    },
    {
     "cell_type": "code",
     "collapsed": false,
     "input": [],
     "language": "python",
     "metadata": {},
     "outputs": []
    }
   ],
   "metadata": {}
  }
 ]
}