{
 "metadata": {
  "name": "2. python program and modules"
 },
 "nbformat": 3,
 "nbformat_minor": 0,
 "worksheets": [
  {
   "cells": [
    {
     "cell_type": "code",
     "collapsed": false,
     "input": [
      "from default import *"
     ],
     "language": "python",
     "metadata": {},
     "outputs": []
    },
    {
     "cell_type": "markdown",
     "metadata": {},
     "source": [
      "# Python program"
     ]
    },
    {
     "cell_type": "markdown",
     "metadata": {},
     "source": [
      "here is a classical program : \n",
      "\n",
      "###hello.py"
     ]
    },
    {
     "cell_type": "markdown",
     "metadata": {},
     "source": [
      "    #!/usr/bin/python\n",
      "    \n",
      "    import sys    \n",
      "\n",
      "    # Command line args are in sys.argv[1], sys.argv[2] ...\n",
      "    # sys.argv[0] is the script name itself\n",
      "\n",
      "    def salutations(name):\n",
      "        print 'Hello there ', name\n",
      "    \n",
      "    if __name__ == '__main__':\n",
      "        name = sys.argv[1]\n",
      "        salutations(name)"
     ]
    },
    {
     "cell_type": "markdown",
     "metadata": {},
     "source": [
      "the program is executed by the following command"
     ]
    },
    {
     "cell_type": "raw",
     "metadata": {},
     "source": [
      "    $ python hello.py Guido\n",
      "    Hello there Guido"
     ]
    },
    {
     "cell_type": "markdown",
     "metadata": {},
     "source": [
      "## module"
     ]
    },
    {
     "cell_type": "markdown",
     "metadata": {},
     "source": [
      "a python file is also a module that can be imported\n",
      "\n",
      "###simple.py"
     ]
    },
    {
     "cell_type": "markdown",
     "metadata": {},
     "source": [
      "    #!/usr/bin/python\n",
      "    \n",
      "    import sys\n",
      "    \n",
      "    from hello import salutations\n",
      "    \n",
      "    if __name__ == '__main__':\n",
      "        my_funtion('Alice')\n",
      "        my_funtion('Bob')"
     ]
    },
    {
     "cell_type": "markdown",
     "metadata": {},
     "source": [
      "modules are searched in locations given in python path"
     ]
    },
    {
     "cell_type": "code",
     "collapsed": false,
     "input": [
      "import sys\n",
      "\n",
      "print sys.path"
     ],
     "language": "python",
     "metadata": {},
     "outputs": []
    },
    {
     "cell_type": "markdown",
     "metadata": {},
     "source": [
      "standard modules\n",
      "\n",
      "* see [python module index](http://docs.python.org/2/py-modindex.html)"
     ]
    },
    {
     "cell_type": "markdown",
     "metadata": {},
     "source": [
      "### Let's play with [**os**](http://docs.python.org/2/library/os.html#module-os) module\n"
     ]
    },
    {
     "cell_type": "code",
     "collapsed": false,
     "input": [
      "import os"
     ],
     "language": "python",
     "metadata": {},
     "outputs": [],
     "prompt_number": 4
    },
    {
     "cell_type": "code",
     "collapsed": false,
     "input": [
      "os.getcwd()"
     ],
     "language": "python",
     "metadata": {},
     "outputs": [
      {
       "output_type": "pyout",
       "prompt_number": 6,
       "text": [
        "'/home/olivier/workspace/euroscipy2013-python-appetizer/notebooks'"
       ]
      }
     ],
     "prompt_number": 6
    },
    {
     "cell_type": "code",
     "collapsed": false,
     "input": [
      "os.name"
     ],
     "language": "python",
     "metadata": {},
     "outputs": [
      {
       "output_type": "pyout",
       "prompt_number": 15,
       "text": [
        "'posix'"
       ]
      }
     ],
     "prompt_number": 15
    },
    {
     "cell_type": "code",
     "collapsed": false,
     "input": [
      "os.listdir('.')"
     ],
     "language": "python",
     "metadata": {},
     "outputs": [
      {
       "output_type": "pyout",
       "prompt_number": 12,
       "text": [
        "['default.py~',\n",
        " 'text.txt',\n",
        " '3. example - serial_communication.ipynb',\n",
        " 'clicker_nb_tools.pyc',\n",
        " 'tp1.ipynb',\n",
        " '1_5.python object.ipynb',\n",
        " 'python_tutor_nb_tools.py',\n",
        " 'shakespeare.ipynb',\n",
        " 'matrix.ipynb',\n",
        " 'PythonTutor_nb_tools.py~',\n",
        " '1. python language.ipynb',\n",
        " 'python_tutor_nb_tools.pyc',\n",
        " '1_4.python dictionnary.ipynb',\n",
        " '3. example - URL import.ipynb',\n",
        " 'python_tutor_nb_tools.py~',\n",
        " '3. example - speed up python.ipynb',\n",
        " 'sympy.ipynb',\n",
        " 'datasets',\n",
        " 'serial.ipynb',\n",
        " 'default.py',\n",
        " 'default.pyc',\n",
        " '1_2. python list.ipynb',\n",
        " 'Untitled Document 1',\n",
        " 'Untitled Document 1~',\n",
        " 'double pendulum.ipynb',\n",
        " 'pca.ipynb',\n",
        " '2. python program and modules.ipynb',\n",
        " '1_3. python set.ipynb',\n",
        " 'clicker_demo.ipynb',\n",
        " '3. example - numpy.ipynb',\n",
        " 'python_tutor_demo.ipynb',\n",
        " 'traits.ipynb',\n",
        " 'Humor-Sans.ttf',\n",
        " '3. example - basic OS operations.ipynb',\n",
        " 'tp1-kNN.ipynb',\n",
        " 'double.txt',\n",
        " '0. introduction.ipynb',\n",
        " 'reading text files.ipynb',\n",
        " 'clicker_nb_tools.py',\n",
        " '1_1. string operations.ipynb']"
       ]
      }
     ],
     "prompt_number": 12
    },
    {
     "cell_type": "code",
     "collapsed": false,
     "input": [
      "os.path.splitext('image.jpg')"
     ],
     "language": "python",
     "metadata": {},
     "outputs": [
      {
       "output_type": "pyout",
       "prompt_number": 16,
       "text": [
        "('image', '.jpg')"
       ]
      }
     ],
     "prompt_number": 16
    },
    {
     "cell_type": "code",
     "collapsed": false,
     "input": [
      "nb = [f for f in os.listdir('.') if os.path.splitext(f)[1] == '.ipynb']\n",
      "nb.sort()\n",
      "print nb"
     ],
     "language": "python",
     "metadata": {},
     "outputs": [
      {
       "output_type": "stream",
       "stream": "stdout",
       "text": [
        "['0. introduction.ipynb', '1. python language.ipynb', '1_1. string operations.ipynb', '1_2. python list.ipynb', '1_3. python set.ipynb', '1_4.python dictionnary.ipynb', '1_5.python object.ipynb', '2. python program and modules.ipynb', '3. example - URL import.ipynb', '3. example - basic OS operations.ipynb', '3. example - numpy.ipynb', '3. example - serial_communication.ipynb', '3. example - speed up python.ipynb', 'clicker_demo.ipynb', 'double pendulum.ipynb', 'matrix.ipynb', 'pca.ipynb', 'python_tutor_demo.ipynb', 'reading text files.ipynb', 'serial.ipynb', 'shakespeare.ipynb', 'sympy.ipynb', 'tp1-kNN.ipynb', 'tp1.ipynb', 'traits.ipynb']\n"
       ]
      }
     ],
     "prompt_number": 28
    },
    {
     "cell_type": "markdown",
     "metadata": {},
     "source": [
      "walking inside a dir tree"
     ]
    },
    {
     "cell_type": "code",
     "collapsed": false,
     "input": [
      "w = os.walk('./dtest')\n",
      "print w"
     ],
     "language": "python",
     "metadata": {},
     "outputs": [
      {
       "output_type": "stream",
       "stream": "stdout",
       "text": [
        "<generator object walk at 0x373b2d0>\n"
       ]
      }
     ],
     "prompt_number": 37
    },
    {
     "cell_type": "code",
     "collapsed": false,
     "input": [
      "list(w)"
     ],
     "language": "python",
     "metadata": {},
     "outputs": [
      {
       "output_type": "pyout",
       "prompt_number": 38,
       "text": [
        "[('./dtest', ['dir3', 'dir2', 'dir1'], []),\n",
        " ('./dtest/dir3', [], ['f2.csv']),\n",
        " ('./dtest/dir2', [], ['f1.csv']),\n",
        " ('./dtest/dir1', [], ['f2.csv', 'f1.csv'])]"
       ]
      }
     ],
     "prompt_number": 38
    },
    {
     "cell_type": "code",
     "collapsed": false,
     "input": [],
     "language": "python",
     "metadata": {},
     "outputs": []
    }
   ],
   "metadata": {}
  }
 ]
}