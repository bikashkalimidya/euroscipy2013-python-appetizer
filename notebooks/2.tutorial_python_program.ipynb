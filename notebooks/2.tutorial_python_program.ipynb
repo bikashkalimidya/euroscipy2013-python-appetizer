{
 "metadata": {
  "name": "2.tutorial_python_program"
 },
 "nbformat": 3,
 "nbformat_minor": 0,
 "worksheets": [
  {
   "cells": [
    {
     "cell_type": "code",
     "collapsed": false,
     "input": [
      "#if this is the presenter notebook set True\n",
      "#this computer should then be runing the clicker_server\n",
      "#if clicker_nb_tools is not present, switch to non presenter mode\n",
      "\n",
      "presenter_version = False\n",
      "try:\n",
      "    from clicker_nb_tools import ask\n",
      "except ImportError:\n",
      "    presenter_version = False\n",
      "    \n",
      "if not presenter_version:\n",
      "    #replace with a dummy ask() function\n",
      "    def ask(*args,**kwargs):\n",
      "        print 'client notebook'\n",
      "        return None\n",
      "    \n",
      "from python_tutor_nb_tools import disp_code"
     ],
     "language": "python",
     "metadata": {},
     "outputs": []
    },
    {
     "cell_type": "markdown",
     "metadata": {},
     "source": [
      "# Python program"
     ]
    },
    {
     "cell_type": "markdown",
     "metadata": {},
     "source": [
      "here is a classical program : hello.py"
     ]
    },
    {
     "cell_type": "markdown",
     "metadata": {},
     "source": [
      "    #!/usr/bin/python\n",
      "    \n",
      "    import sys    \n",
      "\n",
      "    # Command line args are in sys.argv[1], sys.argv[2] ...\n",
      "    # sys.argv[0] is the script name itself\n",
      "\n",
      "    def salutations(name):\n",
      "        print 'Hello there ', name\n",
      "    \n",
      "    if __name__ == '__main__':\n",
      "        name = sys.argv[1]\n",
      "        salutations(name)"
     ]
    },
    {
     "cell_type": "markdown",
     "metadata": {},
     "source": [
      "the program is executed by the following command"
     ]
    },
    {
     "cell_type": "raw",
     "metadata": {},
     "source": [
      "    $ python hello.py Guido\n",
      "    Hello there Guido"
     ]
    },
    {
     "cell_type": "markdown",
     "metadata": {},
     "source": [
      "## module"
     ]
    },
    {
     "cell_type": "markdown",
     "metadata": {},
     "source": [
      "a python file is also a module that can be imported\n",
      "\n",
      "simple.py"
     ]
    },
    {
     "cell_type": "code",
     "collapsed": false,
     "input": [
      "    #!/usr/bin/python\n",
      "    \n",
      "    import sys\n",
      "    \n",
      "    from hello import salutations\n",
      "    \n",
      "    if __name__ == '__main__':\n",
      "        my_funtion('Alice')\n",
      "        my_funtion('Bob')"
     ],
     "language": "python",
     "metadata": {},
     "outputs": []
    },
    {
     "cell_type": "markdown",
     "metadata": {},
     "source": [
      "modules are searched in locations given in python path"
     ]
    }
   ],
   "metadata": {}
  }
 ]
}