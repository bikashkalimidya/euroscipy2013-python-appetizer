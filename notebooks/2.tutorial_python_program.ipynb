{
 "metadata": {
  "name": "2.tutorial_python_program"
 },
 "nbformat": 3,
 "nbformat_minor": 0,
 "worksheets": [
  {
   "cells": [
    {
     "cell_type": "code",
     "collapsed": false,
     "input": [
      "from default import *"
     ],
     "language": "python",
     "metadata": {},
     "outputs": []
    },
    {
     "cell_type": "markdown",
     "metadata": {},
     "source": [
      "# Python program"
     ]
    },
    {
     "cell_type": "markdown",
     "metadata": {},
     "source": [
      "here is a classical program : \n",
      "\n",
      "###hello.py"
     ]
    },
    {
     "cell_type": "markdown",
     "metadata": {},
     "source": [
      "    #!/usr/bin/python\n",
      "    \n",
      "    import sys    \n",
      "\n",
      "    # Command line args are in sys.argv[1], sys.argv[2] ...\n",
      "    # sys.argv[0] is the script name itself\n",
      "\n",
      "    def salutations(name):\n",
      "        print 'Hello there ', name\n",
      "    \n",
      "    if __name__ == '__main__':\n",
      "        name = sys.argv[1]\n",
      "        salutations(name)"
     ]
    },
    {
     "cell_type": "markdown",
     "metadata": {},
     "source": [
      "the program is executed by the following command"
     ]
    },
    {
     "cell_type": "raw",
     "metadata": {},
     "source": [
      "    $ python hello.py Guido\n",
      "    Hello there Guido"
     ]
    },
    {
     "cell_type": "markdown",
     "metadata": {},
     "source": [
      "## module"
     ]
    },
    {
     "cell_type": "markdown",
     "metadata": {},
     "source": [
      "a python file is also a module that can be imported\n",
      "\n",
      "###simple.py"
     ]
    },
    {
     "cell_type": "markdown",
     "metadata": {},
     "source": [
      "    #!/usr/bin/python\n",
      "    \n",
      "    import sys\n",
      "    \n",
      "    from hello import salutations\n",
      "    \n",
      "    if __name__ == '__main__':\n",
      "        my_funtion('Alice')\n",
      "        my_funtion('Bob')"
     ]
    },
    {
     "cell_type": "markdown",
     "metadata": {},
     "source": [
      "modules are searched in locations given in python path"
     ]
    },
    {
     "cell_type": "code",
     "collapsed": false,
     "input": [
      "import sys\n",
      "\n",
      "print sys.path"
     ],
     "language": "python",
     "metadata": {},
     "outputs": []
    },
    {
     "cell_type": "code",
     "collapsed": false,
     "input": [],
     "language": "python",
     "metadata": {},
     "outputs": []
    }
   ],
   "metadata": {}
  }
 ]
}