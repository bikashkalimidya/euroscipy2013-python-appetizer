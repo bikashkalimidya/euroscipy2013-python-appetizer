{
 "metadata": {
  "name": "3. example - URL import"
 },
 "nbformat": 3,
 "nbformat_minor": 0,
 "worksheets": [
  {
   "cells": [
    {
     "cell_type": "code",
     "collapsed": false,
     "input": [
      "from default import *"
     ],
     "language": "python",
     "metadata": {},
     "outputs": []
    },
    {
     "cell_type": "markdown",
     "metadata": {},
     "source": [
      "## String manipulation example"
     ]
    },
    {
     "cell_type": "markdown",
     "metadata": {},
     "source": [
      "**Shakespear's palindrom problem**\n",
      "\n",
      "First we need to get some input text, for example let's download the complete Shakespeare's plays into one single text.\n",
      "To access th web we need a generic library that gives an abstraction for internet connections:"
     ]
    },
    {
     "cell_type": "code",
     "collapsed": false,
     "input": [
      "from urllib import urlopen\n",
      "#see: http://www-inst.eecs.berkeley.edu/~cs61a/sp12/book/functions.html#introduction"
     ],
     "language": "python",
     "metadata": {},
     "outputs": []
    },
    {
     "cell_type": "markdown",
     "metadata": {},
     "source": [
      "We then open a connection with the server location:"
     ]
    },
    {
     "cell_type": "code",
     "collapsed": true,
     "input": [
      "shakespeare = urlopen('http://inst.eecs.berkeley.edu/~cs61a/fa11/shakespeare.txt')"
     ],
     "language": "python",
     "metadata": {},
     "outputs": []
    },
    {
     "cell_type": "markdown",
     "metadata": {},
     "source": [
      "the **shakespeare** object is as simple as a file handle. And beside, Python offers native **unicode support**,\n",
      "so no more trouble with encoded text.\n",
      "\n",
      "The following line will read the complete file content and decode it unicode text."
     ]
    },
    {
     "cell_type": "code",
     "collapsed": false,
     "input": [
      "text = shakespeare.read()\n",
      "\n",
      "print '# of symbols: ',len(text)"
     ],
     "language": "python",
     "metadata": {},
     "outputs": []
    },
    {
     "cell_type": "markdown",
     "metadata": {},
     "source": [
      "if we are interested in words, we can split string into words using:"
     ]
    },
    {
     "cell_type": "code",
     "collapsed": false,
     "input": [
      "all_words = text.split()\n",
      "print '# of words: ',len(all_words)"
     ],
     "language": "python",
     "metadata": {},
     "outputs": []
    },
    {
     "cell_type": "markdown",
     "metadata": {},
     "source": [
      "one can make a local copy of the text:"
     ]
    },
    {
     "cell_type": "code",
     "collapsed": false,
     "input": [
      "open('text.txt','w').write(text)\n",
      "\n",
      "t2 = open('text.txt').read()\n",
      "\n",
      "t2 == text"
     ],
     "language": "python",
     "metadata": {},
     "outputs": []
    },
    {
     "cell_type": "markdown",
     "metadata": {},
     "source": [
      "of course many words are identical ('the', 'from', 'voluptuousness', ...) therefore we will transform the **list** of words into\n",
      "a **set** of unique words:"
     ]
    },
    {
     "cell_type": "code",
     "collapsed": false,
     "input": [
      "unique_words = set(all_words)\n",
      "print '# of unique words: ',len(unique_words)"
     ],
     "language": "python",
     "metadata": {},
     "outputs": []
    },
    {
     "cell_type": "markdown",
     "metadata": {},
     "source": [
      "by the way, the number of characters in total is 4538523, forming 980637 words of which 33505 are unique.\n",
      "\n",
      "Ok now what about the number of palindromes ? \n",
      "\n",
      "I.e. words that can be read the same way in either direction,i.e. where **w is identical to its reversed version**\n",
      "\n",
      "the following line gives the answer, it creates a set **p** that list all the words satisfying this condition\n",
      "(keeping only words longer or equal to 5 characters."
     ]
    },
    {
     "cell_type": "code",
     "collapsed": false,
     "input": [
      "p = {w for w in unique_words if len(w) >= 5 and w[::-1]==w}\n",
      "\n",
      "print '# of palindroms: ',len(p)\n",
      "print\n",
      "\n",
      "for w in p:\n",
      "    print w"
     ],
     "language": "python",
     "metadata": {},
     "outputs": []
    },
    {
     "cell_type": "markdown",
     "metadata": {},
     "source": [
      "if we are looking for words which are also present in their reverse form, we can use the **in** operator applied to\n",
      "a **set** :"
     ]
    },
    {
     "cell_type": "code",
     "collapsed": false,
     "input": [
      "r = {w for w in unique_words if len(w) >= 5 and w[::-1] in unique_words}\n",
      "\n",
      "print '# of \"mirror\" words: ',len(r)\n",
      "print\n",
      "for w in r:\n",
      "    print w,'<-->',w[::-1]"
     ],
     "language": "python",
     "metadata": {},
     "outputs": []
    },
    {
     "cell_type": "markdown",
     "metadata": {},
     "source": [
      "and if we are looking for words which are also present in their reverse form, but that aren't palindroms, we can use the **-** operator on **sets**"
     ]
    },
    {
     "cell_type": "code",
     "collapsed": false,
     "input": [
      "r_only = r - p\n",
      "\n",
      "print '# of \"mirror\" words that are not palindrom: ',len(r_only)\n",
      "print \n",
      "\n",
      "for w in r_only:\n",
      "    print w,'<-->',w[::-1]"
     ],
     "language": "python",
     "metadata": {},
     "outputs": []
    },
    {
     "cell_type": "code",
     "collapsed": true,
     "input": [],
     "language": "python",
     "metadata": {},
     "outputs": []
    }
   ],
   "metadata": {}
  }
 ]
}