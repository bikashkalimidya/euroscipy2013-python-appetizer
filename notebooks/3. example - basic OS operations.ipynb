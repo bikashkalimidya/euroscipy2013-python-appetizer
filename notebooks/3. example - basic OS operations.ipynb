{
 "metadata": {
  "name": "3. example - basic OS operations"
 },
 "nbformat": 3,
 "nbformat_minor": 0,
 "worksheets": [
  {
   "cells": [
    {
     "cell_type": "code",
     "collapsed": false,
     "input": [
      "from default import *"
     ],
     "language": "python",
     "metadata": {},
     "outputs": []
    },
    {
     "cell_type": "markdown",
     "metadata": {},
     "source": [
      "# Let's play with [**os**](http://docs.python.org/2/library/os.html#module-os) module\n"
     ]
    },
    {
     "cell_type": "code",
     "collapsed": false,
     "input": [
      "import os\n",
      "from pprint import pprint"
     ],
     "language": "python",
     "metadata": {},
     "outputs": []
    },
    {
     "cell_type": "code",
     "collapsed": false,
     "input": [
      "os.getcwd()"
     ],
     "language": "python",
     "metadata": {},
     "outputs": []
    },
    {
     "cell_type": "code",
     "collapsed": false,
     "input": [
      "os.name"
     ],
     "language": "python",
     "metadata": {},
     "outputs": []
    },
    {
     "cell_type": "code",
     "collapsed": false,
     "input": [
      "os.listdir('.')"
     ],
     "language": "python",
     "metadata": {},
     "outputs": []
    },
    {
     "cell_type": "code",
     "collapsed": false,
     "input": [
      "os.path.splitext('image.jpg')"
     ],
     "language": "python",
     "metadata": {},
     "outputs": []
    },
    {
     "cell_type": "code",
     "collapsed": false,
     "input": [
      "nb = [f for f in os.listdir('.') if os.path.splitext(f)[1] == '.ipynb']\n",
      "nb.sort()\n",
      "\n",
      "pprint(nb)"
     ],
     "language": "python",
     "metadata": {},
     "outputs": []
    },
    {
     "cell_type": "markdown",
     "metadata": {},
     "source": [
      "walking inside a dir tree"
     ]
    },
    {
     "cell_type": "code",
     "collapsed": false,
     "input": [
      "w = os.walk('./dtest')\n",
      "print w"
     ],
     "language": "python",
     "metadata": {},
     "outputs": []
    },
    {
     "cell_type": "code",
     "collapsed": false,
     "input": [
      "dirs = list(w)\n",
      "pprint(dirs)"
     ],
     "language": "python",
     "metadata": {},
     "outputs": []
    },
    {
     "cell_type": "code",
     "collapsed": false,
     "input": [
      "def read_csv(f):\n",
      "    \"\"\"extract data from .csv file\"\"\"\n",
      "    fid = open(f)\n",
      "    data = []\n",
      "    for i,line in enumerate(fid):\n",
      "        if i>0:\n",
      "            no_return = line.strip() #remove \\n \n",
      "            cols = no_return.split(';') #split columns\n",
      "            numbers = [float(c) for c in cols]\n",
      "            data.append(numbers)\n",
      "    return data"
     ],
     "language": "python",
     "metadata": {},
     "outputs": []
    },
    {
     "cell_type": "code",
     "collapsed": false,
     "input": [
      "Data = []\n",
      "for d in dirs:\n",
      "    for f in d[2]:\n",
      "        filename = os.path.join(d[0],f)\n",
      "        data = read_csv(filename)\n",
      "        Data.extend(data)\n",
      "\n",
      "pprint(Data)"
     ],
     "language": "python",
     "metadata": {},
     "outputs": []
    },
    {
     "cell_type": "markdown",
     "metadata": {},
     "source": [
      "one can define a function to sum two list\n",
      "\n",
      "* see [lambda expression](http://docs.python.org/2/reference/expressions.html#lambda)"
     ]
    },
    {
     "cell_type": "code",
     "collapsed": false,
     "input": [
      "f = lambda a,b:[x+y for x,y in zip(a,b)]"
     ],
     "language": "python",
     "metadata": {},
     "outputs": []
    },
    {
     "cell_type": "code",
     "collapsed": false,
     "input": [
      "f(range(5),range(5))"
     ],
     "language": "python",
     "metadata": {},
     "outputs": []
    },
    {
     "cell_type": "markdown",
     "metadata": {},
     "source": [
      "[**reduce**](http://docs.python.org/2/library/functions.html?highlight=lambda#reduce) Apply function of two arguments cumulatively to the items of iterable,"
     ]
    },
    {
     "cell_type": "code",
     "collapsed": false,
     "input": [
      "reduce(f,Data)"
     ],
     "language": "python",
     "metadata": {},
     "outputs": []
    },
    {
     "cell_type": "code",
     "collapsed": false,
     "input": [],
     "language": "python",
     "metadata": {},
     "outputs": []
    }
   ],
   "metadata": {}
  }
 ]
}