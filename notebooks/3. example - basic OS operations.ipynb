{
 "metadata": {
  "name": "3. example - basic OS operations"
 },
 "nbformat": 3,
 "nbformat_minor": 0,
 "worksheets": [
  {
   "cells": [
    {
     "cell_type": "code",
     "collapsed": false,
     "input": [
      "from default import *"
     ],
     "language": "python",
     "metadata": {},
     "outputs": []
    },
    {
     "cell_type": "markdown",
     "metadata": {},
     "source": [
      "# Let's play with [**os**](http://docs.python.org/2/library/os.html#module-os) module\n"
     ]
    },
    {
     "cell_type": "code",
     "collapsed": false,
     "input": [
      "import os\n",
      "from pprint import pprint"
     ],
     "language": "python",
     "metadata": {},
     "outputs": [],
     "prompt_number": 102
    },
    {
     "cell_type": "code",
     "collapsed": false,
     "input": [
      "os.getcwd()"
     ],
     "language": "python",
     "metadata": {},
     "outputs": [
      {
       "output_type": "pyout",
       "prompt_number": 6,
       "text": [
        "'/home/olivier/workspace/euroscipy2013-python-appetizer/notebooks'"
       ]
      }
     ],
     "prompt_number": 6
    },
    {
     "cell_type": "code",
     "collapsed": false,
     "input": [
      "os.name"
     ],
     "language": "python",
     "metadata": {},
     "outputs": [
      {
       "output_type": "pyout",
       "prompt_number": 15,
       "text": [
        "'posix'"
       ]
      }
     ],
     "prompt_number": 15
    },
    {
     "cell_type": "code",
     "collapsed": false,
     "input": [
      "os.listdir('.')"
     ],
     "language": "python",
     "metadata": {},
     "outputs": [
      {
       "output_type": "pyout",
       "prompt_number": 12,
       "text": [
        "['default.py~',\n",
        " 'text.txt',\n",
        " '3. example - serial_communication.ipynb',\n",
        " 'clicker_nb_tools.pyc',\n",
        " 'tp1.ipynb',\n",
        " '1_5.python object.ipynb',\n",
        " 'python_tutor_nb_tools.py',\n",
        " 'shakespeare.ipynb',\n",
        " 'matrix.ipynb',\n",
        " 'PythonTutor_nb_tools.py~',\n",
        " '1. python language.ipynb',\n",
        " 'python_tutor_nb_tools.pyc',\n",
        " '1_4.python dictionnary.ipynb',\n",
        " '3. example - URL import.ipynb',\n",
        " 'python_tutor_nb_tools.py~',\n",
        " '3. example - speed up python.ipynb',\n",
        " 'sympy.ipynb',\n",
        " 'datasets',\n",
        " 'serial.ipynb',\n",
        " 'default.py',\n",
        " 'default.pyc',\n",
        " '1_2. python list.ipynb',\n",
        " 'Untitled Document 1',\n",
        " 'Untitled Document 1~',\n",
        " 'double pendulum.ipynb',\n",
        " 'pca.ipynb',\n",
        " '2. python program and modules.ipynb',\n",
        " '1_3. python set.ipynb',\n",
        " 'clicker_demo.ipynb',\n",
        " '3. example - numpy.ipynb',\n",
        " 'python_tutor_demo.ipynb',\n",
        " 'traits.ipynb',\n",
        " 'Humor-Sans.ttf',\n",
        " '3. example - basic OS operations.ipynb',\n",
        " 'tp1-kNN.ipynb',\n",
        " 'double.txt',\n",
        " '0. introduction.ipynb',\n",
        " 'reading text files.ipynb',\n",
        " 'clicker_nb_tools.py',\n",
        " '1_1. string operations.ipynb']"
       ]
      }
     ],
     "prompt_number": 12
    },
    {
     "cell_type": "code",
     "collapsed": false,
     "input": [
      "os.path.splitext('image.jpg')"
     ],
     "language": "python",
     "metadata": {},
     "outputs": [
      {
       "output_type": "pyout",
       "prompt_number": 16,
       "text": [
        "('image', '.jpg')"
       ]
      }
     ],
     "prompt_number": 16
    },
    {
     "cell_type": "code",
     "collapsed": false,
     "input": [
      "nb = [f for f in os.listdir('.') if os.path.splitext(f)[1] == '.ipynb']\n",
      "nb.sort()\n",
      "\n",
      "pprint(nb)"
     ],
     "language": "python",
     "metadata": {},
     "outputs": [
      {
       "output_type": "stream",
       "stream": "stdout",
       "text": [
        "['0. introduction.ipynb',\n",
        " '1. python language.ipynb',\n",
        " '1_1. string operations.ipynb',\n",
        " '1_2. python list.ipynb',\n",
        " '1_3. python set.ipynb',\n",
        " '1_4.python dictionnary.ipynb',\n",
        " '1_5.python object.ipynb',\n",
        " '2. python program and modules.ipynb',\n",
        " '3. example - URL import.ipynb',\n",
        " '3. example - basic OS operations.ipynb',\n",
        " '3. example - numpy.ipynb',\n",
        " '3. example - serial_communication.ipynb',\n",
        " '3. example - speed up python.ipynb',\n",
        " 'clicker_demo.ipynb',\n",
        " 'double pendulum.ipynb',\n",
        " 'matrix.ipynb',\n",
        " 'pca.ipynb',\n",
        " 'python_tutor_demo.ipynb',\n",
        " 'reading text files.ipynb',\n",
        " 'serial.ipynb',\n",
        " 'shakespeare.ipynb',\n",
        " 'sympy.ipynb',\n",
        " 'tp1-kNN.ipynb',\n",
        " 'tp1.ipynb',\n",
        " 'traits.ipynb']\n"
       ]
      }
     ],
     "prompt_number": 103
    },
    {
     "cell_type": "markdown",
     "metadata": {},
     "source": [
      "walking inside a dir tree"
     ]
    },
    {
     "cell_type": "code",
     "collapsed": false,
     "input": [
      "w = os.walk('./dtest')\n",
      "print w"
     ],
     "language": "python",
     "metadata": {},
     "outputs": [
      {
       "output_type": "stream",
       "stream": "stdout",
       "text": [
        "<generator object walk at 0x377eaf0>\n"
       ]
      }
     ],
     "prompt_number": 106
    },
    {
     "cell_type": "code",
     "collapsed": false,
     "input": [
      "dirs = list(w)\n",
      "pprint(dirs)"
     ],
     "language": "python",
     "metadata": {},
     "outputs": [
      {
       "output_type": "stream",
       "stream": "stdout",
       "text": [
        "[('./dtest', ['dir3', 'dir2', 'dir1'], []),\n",
        " ('./dtest/dir3', [], ['f2.csv']),\n",
        " ('./dtest/dir2', [], ['f1.csv']),\n",
        " ('./dtest/dir1', [], ['f2.csv', 'f1.csv'])]\n"
       ]
      }
     ],
     "prompt_number": 107
    },
    {
     "cell_type": "code",
     "collapsed": false,
     "input": [
      "def read_csv(f):\n",
      "    \"\"\"extract data from .csv file\"\"\"\n",
      "    fid = open(f)\n",
      "    data = []\n",
      "    for i,line in enumerate(fid):\n",
      "        if i>0:\n",
      "            no_return = line.strip() #remove \\n \n",
      "            cols = no_return.split(';') #split columns\n",
      "            numbers = [float(c) for c in cols]\n",
      "            data.append(numbers)\n",
      "    return data"
     ],
     "language": "python",
     "metadata": {},
     "outputs": [],
     "prompt_number": 98
    },
    {
     "cell_type": "code",
     "collapsed": false,
     "input": [
      "Data = []\n",
      "for d in dirs:\n",
      "    for f in d[2]:\n",
      "        filename = os.path.join(d[0],f)\n",
      "        data = read_csv(filename)\n",
      "        Data.extend(data)\n",
      "\n",
      "pprint(Data)"
     ],
     "language": "python",
     "metadata": {},
     "outputs": [
      {
       "output_type": "stream",
       "stream": "stdout",
       "text": [
        "[[5.0, 45.0, 50.0],\n",
        " [10.0, 20.0, 30.0],\n",
        " [1.0, 2.0, 3.0],\n",
        " [2.0, 4.0, 6.0],\n",
        " [-1.0, 2.0, 1.0],\n",
        " [5.0, 45.0, 50.0],\n",
        " [10.0, 20.0, 30.0],\n",
        " [1.0, 2.0, 3.0],\n",
        " [2.0, 4.0, 6.0],\n",
        " [-1.0, 2.0, 1.0]]\n"
       ]
      }
     ],
     "prompt_number": 109
    },
    {
     "cell_type": "markdown",
     "metadata": {},
     "source": [
      "one can define a function to sum two list\n",
      "\n",
      "* see [lambda expression](http://docs.python.org/2/reference/expressions.html#lambda)"
     ]
    },
    {
     "cell_type": "code",
     "collapsed": false,
     "input": [
      "f = lambda a,b:[x+y for x,y in zip(a,b)]"
     ],
     "language": "python",
     "metadata": {},
     "outputs": [],
     "prompt_number": 116
    },
    {
     "cell_type": "code",
     "collapsed": false,
     "input": [
      "f(range(5),range(5))"
     ],
     "language": "python",
     "metadata": {},
     "outputs": [
      {
       "output_type": "pyout",
       "prompt_number": 117,
       "text": [
        "[0, 2, 4, 6, 8]"
       ]
      }
     ],
     "prompt_number": 117
    },
    {
     "cell_type": "markdown",
     "metadata": {},
     "source": [
      "[**reduce**](http://docs.python.org/2/library/functions.html?highlight=lambda#reduce) Apply function of two arguments cumulatively to the items of iterable,"
     ]
    },
    {
     "cell_type": "code",
     "collapsed": false,
     "input": [
      "reduce(f,Data)"
     ],
     "language": "python",
     "metadata": {},
     "outputs": [
      {
       "output_type": "pyout",
       "prompt_number": 122,
       "text": [
        "[34.0, 146.0, 180.0]"
       ]
      }
     ],
     "prompt_number": 122
    },
    {
     "cell_type": "code",
     "collapsed": false,
     "input": [],
     "language": "python",
     "metadata": {},
     "outputs": []
    }
   ],
   "metadata": {}
  }
 ]
}