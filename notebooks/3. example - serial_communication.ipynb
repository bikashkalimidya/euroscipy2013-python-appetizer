{
 "metadata": {
  "name": "3. example - serial_communication"
 },
 "nbformat": 3,
 "nbformat_minor": 0,
 "worksheets": [
  {
   "cells": [
    {
     "cell_type": "code",
     "collapsed": false,
     "input": [
      "from default import *"
     ],
     "language": "python",
     "metadata": {},
     "outputs": []
    },
    {
     "cell_type": "markdown",
     "metadata": {},
     "source": [
      "# Serial communication example\n"
     ]
    },
    {
     "cell_type": "markdown",
     "metadata": {},
     "source": [
      "**Importing useful modules**"
     ]
    },
    {
     "cell_type": "code",
     "collapsed": true,
     "input": [
      "import serial\n",
      "import serial.tools.list_ports as lp"
     ],
     "language": "python",
     "metadata": {},
     "outputs": []
    },
    {
     "cell_type": "markdown",
     "metadata": {},
     "source": [
      "**List of the available serial ports**"
     ]
    },
    {
     "cell_type": "code",
     "collapsed": true,
     "input": [
      "for port in lp.comports():\n",
      "    print port"
     ],
     "language": "python",
     "metadata": {},
     "outputs": []
    },
    {
     "cell_type": "markdown",
     "metadata": {},
     "source": [
      "**Open serial communication**"
     ]
    },
    {
     "cell_type": "code",
     "collapsed": true,
     "input": [
      "ser = serial.Serial(port='/dev/ttyACM0', baudrate=115200, timeout=1,\n",
      "                    bytesize=serial.EIGHTBITS, parity=serial.PARITY_NONE,stopbits=serial.STOPBITS_ONE,\n",
      "                    dsrdtr=False,rtscts=False)\n",
      "ser.setRtsCts(True)"
     ],
     "language": "python",
     "metadata": {},
     "outputs": []
    },
    {
     "cell_type": "code",
     "collapsed": true,
     "input": [
      "print ser"
     ],
     "language": "python",
     "metadata": {},
     "outputs": []
    },
    {
     "cell_type": "markdown",
     "metadata": {},
     "source": [
      "**Get one sample**"
     ]
    },
    {
     "cell_type": "code",
     "collapsed": false,
     "input": [
      "ser.write('GET\\n')\n",
      "print ser.readline()"
     ],
     "language": "python",
     "metadata": {},
     "outputs": []
    },
    {
     "cell_type": "markdown",
     "metadata": {},
     "source": [
      "**Get more samples an plot a curve**"
     ]
    },
    {
     "cell_type": "code",
     "collapsed": true,
     "input": [
      "data = []\n",
      "for i in range(10):\n",
      "    ser.write('GET\\n')\n",
      "    line = ser.readline()\n",
      "    s = line.split()\n",
      "    data.append(s[1])\n",
      "print data"
     ],
     "language": "python",
     "metadata": {},
     "outputs": []
    },
    {
     "cell_type": "code",
     "collapsed": true,
     "input": [
      "plot(asarray(data))"
     ],
     "language": "python",
     "metadata": {},
     "outputs": []
    },
    {
     "cell_type": "code",
     "collapsed": true,
     "input": [
      "#bigger exemple\n",
      "rec = []\n",
      "N = 400\n",
      "for i in range(N):\n",
      "    ser.write('GET\\n')\n",
      "    line = ser.readline()\n",
      "    s = line.split()\n",
      "    rec.append(float(s[1]))\n",
      "f = asarray(rec)\n",
      "\n",
      "figure()\n",
      "plot(f)"
     ],
     "language": "python",
     "metadata": {},
     "outputs": []
    },
    {
     "cell_type": "code",
     "collapsed": false,
     "input": [
      "F = fft.fft(f)\n",
      "\n",
      "print F.dtype"
     ],
     "language": "python",
     "metadata": {},
     "outputs": []
    },
    {
     "cell_type": "code",
     "collapsed": false,
     "input": [
      "figure()\n",
      "plot(abs(F))"
     ],
     "language": "python",
     "metadata": {},
     "outputs": []
    },
    {
     "cell_type": "code",
     "collapsed": false,
     "input": [
      "shifted_F = fft.fftshift(F)\n",
      "\n",
      "figure()\n",
      "plot(abs(shifted_F))"
     ],
     "language": "python",
     "metadata": {},
     "outputs": []
    },
    {
     "cell_type": "code",
     "collapsed": false,
     "input": [
      "mask = zeros_like(F)\n",
      "mask[N/2-50:N/2+50] = 1.0\n",
      "\n",
      "shifted_filtered_F = shifted_F * mask\n",
      "\n",
      "figure()\n",
      "plot(abs(shifted_filtered_F))\n",
      "plot(abs(shifted_F))\n"
     ],
     "language": "python",
     "metadata": {},
     "outputs": []
    },
    {
     "cell_type": "code",
     "collapsed": false,
     "input": [
      "filtered_F = fft.ifftshift(shifted_filtered_F)\n",
      "\n",
      "filtered_f = fft.ifft(filtered_F)\n",
      "\n",
      "figure()\n",
      "plot(abs(filtered_f))\n",
      "plot(f)"
     ],
     "language": "python",
     "metadata": {},
     "outputs": []
    },
    {
     "cell_type": "markdown",
     "metadata": {},
     "source": [
      "**Close serial connection**"
     ]
    },
    {
     "cell_type": "code",
     "collapsed": true,
     "input": [
      "ser.close()"
     ],
     "language": "python",
     "metadata": {},
     "outputs": []
    },
    {
     "cell_type": "code",
     "collapsed": false,
     "input": [
      "ask('a,b,c',sec=15)"
     ],
     "language": "python",
     "metadata": {},
     "outputs": []
    },
    {
     "cell_type": "code",
     "collapsed": false,
     "input": [],
     "language": "python",
     "metadata": {},
     "outputs": []
    }
   ],
   "metadata": {}
  }
 ]
}