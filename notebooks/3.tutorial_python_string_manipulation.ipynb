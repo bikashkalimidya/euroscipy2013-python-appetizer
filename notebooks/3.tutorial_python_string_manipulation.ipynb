{
 "metadata": {
  "name": "3.tutorial_python_string_manipulation"
 },
 "nbformat": 3,
 "nbformat_minor": 0,
 "worksheets": [
  {
   "cells": [
    {
     "cell_type": "code",
     "collapsed": false,
     "input": [
      "#if this is the presenter notebook set True\n",
      "#this computer should then be runing the clicker_server\n",
      "#if clicker_nb_tools is not present, switch to non presenter mode\n",
      "\n",
      "presenter_version = False\n",
      "try:\n",
      "    from clicker_nb_tools import ask\n",
      "except ImportError:\n",
      "    presenter_version = False\n",
      "    \n",
      "if not presenter_version:\n",
      "    #replace with a dummy ask() function\n",
      "    def ask(*args,**kwargs):\n",
      "        print 'client notebook'\n",
      "        return None\n",
      "    \n",
      "from python_tutor_nb_tools import disp_code"
     ],
     "language": "python",
     "metadata": {},
     "outputs": [],
     "prompt_number": 1
    },
    {
     "cell_type": "markdown",
     "metadata": {},
     "source": [
      "## string manipulation"
     ]
    },
    {
     "cell_type": "code",
     "collapsed": false,
     "input": [],
     "language": "python",
     "metadata": {},
     "outputs": []
    }
   ],
   "metadata": {}
  }
 ]
}