{
 "metadata": {
  "name": "4. example - numpy"
 },
 "nbformat": 3,
 "nbformat_minor": 0,
 "worksheets": [
  {
   "cells": [
    {
     "cell_type": "code",
     "collapsed": false,
     "input": [
      "from default import *"
     ],
     "language": "python",
     "metadata": {},
     "outputs": []
    },
    {
     "cell_type": "markdown",
     "metadata": {},
     "source": [
      "## Using an external package"
     ]
    },
    {
     "cell_type": "markdown",
     "metadata": {},
     "source": [
      "to use function from a module/package\n",
      "\n",
      "    import numpy \n",
      "\n",
      "    a = numpy.pi"
     ]
    },
    {
     "cell_type": "markdown",
     "metadata": {},
     "source": [
      "using alias\n",
      "\n",
      "    import numpy as np\n",
      "\n",
      "    a = np.pi "
     ]
    },
    {
     "cell_type": "markdown",
     "metadata": {},
     "source": [
      "importing specific function/object\n",
      "\n",
      "    from numpy import pi\n",
      "\n",
      "    a = pi"
     ]
    },
    {
     "cell_type": "markdown",
     "metadata": {},
     "source": [
      "importing all functions/objects\n",
      "\n",
      "    from numpy import *\n",
      "\n",
      "    a = pi\n",
      "    b = e"
     ]
    },
    {
     "cell_type": "markdown",
     "metadata": {},
     "source": [
      "when using IPython use\n",
      "\n",
      "    ipython --pylab=inline\n",
      "\n",
      "or inside the ipython session use the *magic* function\n",
      "\n",
      "    %pylab\n",
      "\n"
     ]
    },
    {
     "cell_type": "markdown",
     "metadata": {},
     "source": [
      "##Numerical programming example"
     ]
    },
    {
     "cell_type": "markdown",
     "metadata": {},
     "source": [
      "**Principal axis of a 2D distribution**\n",
      "\n",
      "We use here the **numpy** module to illustrate how to find principal component of a random set of points"
     ]
    },
    {
     "cell_type": "code",
     "collapsed": true,
     "input": [
      "data = random.normal(size = (1000,2))"
     ],
     "language": "python",
     "metadata": {},
     "outputs": []
    },
    {
     "cell_type": "code",
     "collapsed": true,
     "input": [
      "#scaling\n",
      "data = data * asarray([2,1])\n",
      "\n",
      "#rotation\n",
      "theta = pi/4\n",
      "rotmat = asarray([[cos(theta), -sin(theta)],[sin(theta), cos(theta)]])\n",
      "data = dot(data,rotmat)\n",
      "\n",
      "#translation\n",
      "data = data + asarray([10,10])"
     ],
     "language": "python",
     "metadata": {},
     "outputs": []
    },
    {
     "cell_type": "markdown",
     "metadata": {},
     "source": [
      "plot the point cloud"
     ]
    },
    {
     "cell_type": "code",
     "collapsed": false,
     "input": [
      "scatter(data[:,0],data[:,1])\n",
      "\n",
      "axis = gca()\n",
      "axis.set_aspect('equal')"
     ],
     "language": "python",
     "metadata": {},
     "outputs": []
    },
    {
     "cell_type": "markdown",
     "metadata": {},
     "source": [
      "computing the variance-covariance matrix and its eigen values"
     ]
    },
    {
     "cell_type": "code",
     "collapsed": false,
     "input": [
      "s = dot(data.T,data)\n",
      "d,v = eig(s)\n",
      "\n",
      "print v\n",
      "print d\n",
      "\n",
      "g = mean(data,axis=0)"
     ],
     "language": "python",
     "metadata": {},
     "outputs": []
    },
    {
     "cell_type": "markdown",
     "metadata": {},
     "source": [
      "Overlay the principal direction on the point cloud"
     ]
    },
    {
     "cell_type": "code",
     "collapsed": false,
     "input": [
      "figure(figsize=[8,8])\n",
      "\n",
      "scatter(data[:,0],data[:,1])\n",
      "\n",
      "axis = gca()\n",
      "axis.set_aspect('equal')\n",
      "\n",
      "arrow(g[0],g[1],v[0,0]*5,v[0,1]*5,lw=2,color='r')\n",
      "arrow(g[0],g[1],v[1,0]*5,v[1,1]*5,lw=2,color='g')\n",
      "\n",
      "print g"
     ],
     "language": "python",
     "metadata": {},
     "outputs": []
    },
    {
     "cell_type": "code",
     "collapsed": true,
     "input": [
      "?linalg.eig"
     ],
     "language": "python",
     "metadata": {},
     "outputs": []
    },
    {
     "cell_type": "markdown",
     "metadata": {},
     "source": [
      "##Matlab vs numpy\n",
      "\n",
      "http://wiki.scipy.org/NumPy_for_Matlab_Users"
     ]
    },
    {
     "cell_type": "code",
     "collapsed": false,
     "input": [],
     "language": "python",
     "metadata": {},
     "outputs": []
    }
   ],
   "metadata": {}
  }
 ]
}