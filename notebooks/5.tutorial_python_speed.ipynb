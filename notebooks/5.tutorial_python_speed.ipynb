{
 "metadata": {
  "name": "5.tutorial_python_speed"
 },
 "nbformat": 3,
 "nbformat_minor": 0,
 "worksheets": [
  {
   "cells": [
    {
     "cell_type": "code",
     "collapsed": false,
     "input": [
      "from default import *"
     ],
     "language": "python",
     "metadata": {},
     "outputs": []
    },
    {
     "cell_type": "markdown",
     "metadata": {},
     "source": [
      "# Speed considerations"
     ]
    },
    {
     "cell_type": "markdown",
     "metadata": {},
     "source": [
      "A common idea is that interpretted languages are slow with respect to compiled ones\n",
      "\n",
      "* **True**\n",
      "    i.e. due to the dynamic type checking, Python has an execution time overhead\n",
      "    \n",
      "* **not so true**\n",
      "    because Python has the possility to call external (compiled) code"
     ]
    },
    {
     "cell_type": "markdown",
     "metadata": {},
     "source": [
      "We will compare execution time for simple matrix computation using several variant, \n",
      "\n",
      "from \n",
      "    \n",
      ">na\u00efve Python implementation \n",
      "\n",
      "to \n",
      "\n",
      ">pure C compiled and integrated into Python"
     ]
    },
    {
     "cell_type": "markdown",
     "metadata": {},
     "source": [
      "## Extension with other languages"
     ]
    },
    {
     "cell_type": "markdown",
     "metadata": {},
     "source": [
      "**from FORTRAN**\n",
      "\n",
      "see http://docs.scipy.org/doc/numpy/user/c-info.python-as-glue.html#f2py"
     ]
    },
    {
     "cell_type": "markdown",
     "metadata": {},
     "source": [
      "**from C**\n",
      "\n",
      "see http://docs.scipy.org/doc/numpy/user/c-info.python-as-glue.html#weave"
     ]
    },
    {
     "cell_type": "markdown",
     "metadata": {},
     "source": [
      "* the **blitz** approach"
     ]
    },
    {
     "cell_type": "code",
     "collapsed": true,
     "input": [
      "import scipy.weave as weave\n",
      "\n",
      "from numpy.testing import assert_array_equal\n",
      "\n",
      "#create a big image\n",
      "a = ones((10000,1000))"
     ],
     "language": "python",
     "metadata": {},
     "outputs": [],
     "prompt_number": 31
    },
    {
     "cell_type": "code",
     "collapsed": true,
     "input": [
      "b = ones(a.shape)"
     ],
     "language": "python",
     "metadata": {},
     "outputs": [],
     "prompt_number": 32
    },
    {
     "cell_type": "code",
     "collapsed": true,
     "input": [
      "def naive(a,b):\n",
      "    r = 2*a+5*b\n",
      "    return r\n",
      "\n",
      "def blitz(a,b):\n",
      "    expr = 'd = 2*a+5*b'\n",
      "    d = empty(a.shape, 'd')\n",
      "    weave.blitz(expr)\n",
      "    return d"
     ],
     "language": "python",
     "metadata": {},
     "outputs": [],
     "prompt_number": 33
    },
    {
     "cell_type": "code",
     "collapsed": false,
     "input": [
      "r_naive = naive(a,b)\n",
      "\n",
      "%timeit(naive(a,b))"
     ],
     "language": "python",
     "metadata": {},
     "outputs": [
      {
       "output_type": "stream",
       "stream": "stdout",
       "text": [
        "1 loops, best of 3: 252 ms per loop\n"
       ]
      }
     ],
     "prompt_number": 48
    },
    {
     "cell_type": "code",
     "collapsed": false,
     "input": [
      "r_blitz = blitz(a,b)\n",
      "\n",
      "%timeit(blitz(a,b))"
     ],
     "language": "python",
     "metadata": {},
     "outputs": [
      {
       "output_type": "stream",
       "stream": "stdout",
       "text": [
        "10 loops, best of 3: 112 ms per loop\n"
       ]
      }
     ],
     "prompt_number": 47
    },
    {
     "cell_type": "code",
     "collapsed": false,
     "input": [
      "assert_array_equal(r_naive,r_blitz)"
     ],
     "language": "python",
     "metadata": {},
     "outputs": [],
     "prompt_number": 36
    },
    {
     "cell_type": "markdown",
     "metadata": {},
     "source": [
      "* the **inline** approach"
     ]
    },
    {
     "cell_type": "code",
     "collapsed": false,
     "input": [
      "def inlined_c(a,b):\n",
      "    dtype2ctype = {\n",
      "        dtype(float64): 'double',\n",
      "        dtype(float32): 'float',\n",
      "        dtype(int32): 'int',\n",
      "        dtype(int16): 'short',\n",
      "    }\n",
      "    dt = dtype2ctype.get(a.dtype)\n",
      "    code = \"\"\"\n",
      "%s *p1, *p2, *p3;\n",
      "PyObject *itr;\n",
      "itr = PyArray_MultiIterNew(3, a_array, b_array, r_array);\n",
      "while(PyArray_MultiIter_NOTDONE(itr)) {\n",
      "    p1 = (%s *) PyArray_MultiIter_DATA(itr, 0);\n",
      "    p2 = (%s *) PyArray_MultiIter_DATA(itr, 1);\n",
      "    p3 = (%s *) PyArray_MultiIter_DATA(itr, 2);\n",
      "    *p3 = 2.0*(*p1) + 5*(*p2);\n",
      "    PyArray_MultiIter_NEXT(itr);\n",
      "}\n",
      "\"\"\" % (dt, dt, dt, dt)\n",
      "    \n",
      "    r = zeros_like(a)\n",
      "    weave.inline(code, ['a', 'b', 'r'])\n",
      "    return r\n"
     ],
     "language": "python",
     "metadata": {},
     "outputs": [],
     "prompt_number": 37
    },
    {
     "cell_type": "code",
     "collapsed": false,
     "input": [
      "r_inlined_c = inlined_c(a,b)"
     ],
     "language": "python",
     "metadata": {},
     "outputs": [],
     "prompt_number": 50
    },
    {
     "cell_type": "code",
     "collapsed": false,
     "input": [
      "%timeit inlined_c(a,b)"
     ],
     "language": "python",
     "metadata": {},
     "outputs": [
      {
       "output_type": "stream",
       "stream": "stdout",
       "text": [
        "1 loops, best of 3: 727 ms per loop\n"
       ]
      }
     ],
     "prompt_number": 51
    },
    {
     "cell_type": "code",
     "collapsed": false,
     "input": [
      "assert_array_equal(r_inlined_c,r_naive)"
     ],
     "language": "python",
     "metadata": {},
     "outputs": [],
     "prompt_number": 52
    },
    {
     "cell_type": "code",
     "collapsed": true,
     "input": [
      "def pure_c(a,b):\n",
      "    dtype2ctype = {\n",
      "        dtype(float64): 'double',\n",
      "        dtype(float32): 'float',\n",
      "        dtype(int32): 'int',\n",
      "        dtype(int16): 'short',\n",
      "    }\n",
      "    dt = dtype2ctype.get(a.dtype)\n",
      "    code = \"\"\"\n",
      "#define DATATYPE %s\n",
      "DATATYPE *p1 = (DATATYPE*)PyArray_GETPTR1(a_array,0);\n",
      "DATATYPE *p2 = (DATATYPE*)PyArray_GETPTR1(b_array,0);\n",
      "DATATYPE *p3 = (DATATYPE*)PyArray_GETPTR1(r_array,0);\n",
      "int i;\n",
      "for(i=0;i<n;i++){\n",
      "    *p3 = 2.0*(*p1) + 5*(*p2);\n",
      "    p1++;p2++;p3++;\n",
      "}\n",
      "\n",
      "\"\"\" % (dt)\n",
      "\n",
      "    r = zeros_like(a)\n",
      "    n = a.size\n",
      "    weave.inline(code, ['n','a', 'b', 'r'])\n",
      "    return r"
     ],
     "language": "python",
     "metadata": {},
     "outputs": [],
     "prompt_number": 53
    },
    {
     "cell_type": "code",
     "collapsed": false,
     "input": [
      "r_pure_c = pure_c(a,b)"
     ],
     "language": "python",
     "metadata": {},
     "outputs": [],
     "prompt_number": 54
    },
    {
     "cell_type": "code",
     "collapsed": false,
     "input": [
      "%timeit pure_c(a,b)"
     ],
     "language": "python",
     "metadata": {},
     "outputs": [
      {
       "output_type": "stream",
       "stream": "stdout",
       "text": [
        "10 loops, best of 3: 145 ms per loop\n"
       ]
      }
     ],
     "prompt_number": 55
    },
    {
     "cell_type": "code",
     "collapsed": false,
     "input": [
      "assert_array_equal(r_pure_c,r_naive)"
     ],
     "language": "python",
     "metadata": {},
     "outputs": [],
     "prompt_number": 56
    },
    {
     "cell_type": "markdown",
     "metadata": {},
     "source": [
      "## to conclude\n",
      "\n",
      "* similarily to Matlab, by using Numpy, heavy computation load is done bu compiled code\n",
      "* it is possible to integrate compiled code to Python project\n",
      "* there is simple optimisation available"
     ]
    },
    {
     "cell_type": "markdown",
     "metadata": {},
     "source": [
      "* other Python based solution exists (Numba, parallel computing,...)\n",
      "                                      "
     ]
    },
    {
     "cell_type": "markdown",
     "metadata": {},
     "source": [
      "* speed can clearly not be used to discard the Python approach !"
     ]
    },
    {
     "cell_type": "code",
     "collapsed": false,
     "input": [],
     "language": "python",
     "metadata": {},
     "outputs": []
    }
   ],
   "metadata": {}
  }
 ]
}