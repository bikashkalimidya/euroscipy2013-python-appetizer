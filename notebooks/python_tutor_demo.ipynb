{
 "metadata": {
  "name": "Python Tutor test"
 },
 "nbformat": 3,
 "nbformat_minor": 0,
 "worksheets": [
  {
   "cells": [
    {
     "cell_type": "markdown",
     "metadata": {},
     "source": [
      "Python Tutor is a web service that enable interactive execution of python code with variable visualisation\n",
      "\n",
      "python_tutor_nb_tools gives a wrapper to inline the webpage inside IPython notebook"
     ]
    },
    {
     "cell_type": "code",
     "collapsed": false,
     "input": [
      "from python_tutor_nb_tools import disp_code"
     ],
     "language": "python",
     "metadata": {},
     "outputs": [],
     "prompt_number": 1
    },
    {
     "cell_type": "markdown",
     "metadata": {},
     "source": [
      "Example of an interactive PythonTutor session"
     ]
    },
    {
     "cell_type": "code",
     "collapsed": false,
     "input": [
      "code=\"\"\"\n",
      "class Foo:\n",
      "    a = 42\n",
      "    b = 789\n",
      "    def __init__(self):\n",
      "        self.a = 43\n",
      "\n",
      "f = Foo()\n",
      "print(f.a)\n",
      "print(f.b)\n",
      "\"\"\"\n",
      "\n",
      "disp_code(code,h=400)\n",
      "\n"
     ],
     "language": "python",
     "metadata": {},
     "outputs": [
      {
       "html": [
        "<iframe width=\"1024\" height=\"400\" frameborder=\"0\"src=\"http://pythontutor.com/iframe-embed.html#code=class+Foo%3A%0A++++a+%3D+42%0A++++b+%3D+789%0A++++def+__init__%28self%29%3A%0A++++++++self.a+%3D+43%0A%0Af+%3D+Foo%28%29%0Aprint%28f.a%29%0Aprint%28f.b%29&cumulative=False&heapPrimitives=False&drawParentPointers=False&textReferences=False&showOnlyOutputs=False&py=2&curInstr=0\"> </iframe>"
       ],
       "output_type": "pyout",
       "prompt_number": 3,
       "text": [
        "<IPython.core.display.HTML at 0x26a8490>"
       ]
      }
     ],
     "prompt_number": 3
    },
    {
     "cell_type": "code",
     "collapsed": false,
     "input": [],
     "language": "python",
     "metadata": {},
     "outputs": []
    }
   ],
   "metadata": {}
  }
 ]
}